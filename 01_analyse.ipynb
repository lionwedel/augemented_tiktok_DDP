{
 "cells": [
  {
   "cell_type": "code",
   "execution_count": 18,
   "id": "df59fe41",
   "metadata": {
    "ExecuteTime": {
     "end_time": "2024-03-11T09:28:39.485635Z",
     "start_time": "2024-03-11T09:28:38.662935Z"
    }
   },
   "outputs": [],
   "source": [
    "import pickle\n",
    "import pandas as pd\n",
    "from tqdm.auto import tqdm\n",
    "from collections import Counter\n",
    "import scipy\n",
    "\n",
    "import warnings\n",
    "warnings.filterwarnings('ignore')"
   ]
  },
  {
   "cell_type": "code",
   "execution_count": 19,
   "id": "69098256",
   "metadata": {
    "ExecuteTime": {
     "end_time": "2024-03-11T09:28:39.540246Z",
     "start_time": "2024-03-11T09:28:39.487629Z"
    }
   },
   "outputs": [
    {
     "data": {
      "text/html": [
       "<div>\n",
       "<style scoped>\n",
       "    .dataframe tbody tr th:only-of-type {\n",
       "        vertical-align: middle;\n",
       "    }\n",
       "\n",
       "    .dataframe tbody tr th {\n",
       "        vertical-align: top;\n",
       "    }\n",
       "\n",
       "    .dataframe thead th {\n",
       "        text-align: right;\n",
       "    }\n",
       "</style>\n",
       "<table border=\"1\" class=\"dataframe\">\n",
       "  <thead>\n",
       "    <tr style=\"text-align: right;\">\n",
       "      <th></th>\n",
       "      <th>Date</th>\n",
       "      <th>Action</th>\n",
       "      <th>Url</th>\n",
       "      <th>OperatingSystem</th>\n",
       "      <th>likes</th>\n",
       "      <th>v_ids</th>\n",
       "      <th>activity_time</th>\n",
       "      <th>ID</th>\n",
       "      <th>session</th>\n",
       "      <th>active_engament</th>\n",
       "      <th>video_length</th>\n",
       "      <th>wt_frac</th>\n",
       "      <th>passive_endorsement</th>\n",
       "      <th>class</th>\n",
       "    </tr>\n",
       "  </thead>\n",
       "  <tbody>\n",
       "    <tr>\n",
       "      <th>0</th>\n",
       "      <td>2023-03-17 11:37:38</td>\n",
       "      <td>watching</td>\n",
       "      <td>https://www.tiktokv.com/share/video/6984429060...</td>\n",
       "      <td>NaN</td>\n",
       "      <td>NaN</td>\n",
       "      <td>6984429060914990342</td>\n",
       "      <td>26.0</td>\n",
       "      <td>6592</td>\n",
       "      <td>1</td>\n",
       "      <td>0</td>\n",
       "      <td>24.0</td>\n",
       "      <td>1.083333</td>\n",
       "      <td>0</td>\n",
       "      <td>0</td>\n",
       "    </tr>\n",
       "    <tr>\n",
       "      <th>1</th>\n",
       "      <td>2023-03-17 11:38:05</td>\n",
       "      <td>watching</td>\n",
       "      <td>https://www.tiktokv.com/share/video/7211168761...</td>\n",
       "      <td>NaN</td>\n",
       "      <td>NaN</td>\n",
       "      <td>7211168761695604014</td>\n",
       "      <td>20.0</td>\n",
       "      <td>6592</td>\n",
       "      <td>1</td>\n",
       "      <td>0</td>\n",
       "      <td>12.0</td>\n",
       "      <td>1.666667</td>\n",
       "      <td>0</td>\n",
       "      <td>0</td>\n",
       "    </tr>\n",
       "    <tr>\n",
       "      <th>2</th>\n",
       "      <td>2023-03-17 11:38:25</td>\n",
       "      <td>watching</td>\n",
       "      <td>https://www.tiktokv.com/share/video/7211204623...</td>\n",
       "      <td>NaN</td>\n",
       "      <td>NaN</td>\n",
       "      <td>7211204623296630022</td>\n",
       "      <td>6.0</td>\n",
       "      <td>6592</td>\n",
       "      <td>1</td>\n",
       "      <td>0</td>\n",
       "      <td>10.0</td>\n",
       "      <td>0.600000</td>\n",
       "      <td>0</td>\n",
       "      <td>0</td>\n",
       "    </tr>\n",
       "    <tr>\n",
       "      <th>3</th>\n",
       "      <td>2023-03-17 11:38:34</td>\n",
       "      <td>watching</td>\n",
       "      <td>https://www.tiktokv.com/share/video/7194066849...</td>\n",
       "      <td>NaN</td>\n",
       "      <td>NaN</td>\n",
       "      <td>7194066849594756354</td>\n",
       "      <td>37.0</td>\n",
       "      <td>6592</td>\n",
       "      <td>1</td>\n",
       "      <td>0</td>\n",
       "      <td>26.0</td>\n",
       "      <td>1.423077</td>\n",
       "      <td>0</td>\n",
       "      <td>1</td>\n",
       "    </tr>\n",
       "    <tr>\n",
       "      <th>4</th>\n",
       "      <td>2023-03-17 11:39:11</td>\n",
       "      <td>watching</td>\n",
       "      <td>https://www.tiktokv.com/share/video/7208232985...</td>\n",
       "      <td>NaN</td>\n",
       "      <td>NaN</td>\n",
       "      <td>7208232985055841542</td>\n",
       "      <td>9.0</td>\n",
       "      <td>6592</td>\n",
       "      <td>1</td>\n",
       "      <td>0</td>\n",
       "      <td>15.0</td>\n",
       "      <td>0.600000</td>\n",
       "      <td>0</td>\n",
       "      <td>0</td>\n",
       "    </tr>\n",
       "  </tbody>\n",
       "</table>\n",
       "</div>"
      ],
      "text/plain": [
       "                  Date    Action  \\\n",
       "0  2023-03-17 11:37:38  watching   \n",
       "1  2023-03-17 11:38:05  watching   \n",
       "2  2023-03-17 11:38:25  watching   \n",
       "3  2023-03-17 11:38:34  watching   \n",
       "4  2023-03-17 11:39:11  watching   \n",
       "\n",
       "                                                 Url  OperatingSystem  likes  \\\n",
       "0  https://www.tiktokv.com/share/video/6984429060...              NaN    NaN   \n",
       "1  https://www.tiktokv.com/share/video/7211168761...              NaN    NaN   \n",
       "2  https://www.tiktokv.com/share/video/7211204623...              NaN    NaN   \n",
       "3  https://www.tiktokv.com/share/video/7194066849...              NaN    NaN   \n",
       "4  https://www.tiktokv.com/share/video/7208232985...              NaN    NaN   \n",
       "\n",
       "                 v_ids  activity_time    ID  session  active_engament  \\\n",
       "0  6984429060914990342           26.0  6592        1                0   \n",
       "1  7211168761695604014           20.0  6592        1                0   \n",
       "2  7211204623296630022            6.0  6592        1                0   \n",
       "3  7194066849594756354           37.0  6592        1                0   \n",
       "4  7208232985055841542            9.0  6592        1                0   \n",
       "\n",
       "   video_length   wt_frac  passive_endorsement  class  \n",
       "0          24.0  1.083333                    0      0  \n",
       "1          12.0  1.666667                    0      0  \n",
       "2          10.0  0.600000                    0      0  \n",
       "3          26.0  1.423077                    0      1  \n",
       "4          15.0  0.600000                    0      0  "
      ]
     },
     "execution_count": 19,
     "metadata": {},
     "output_type": "execute_result"
    }
   ],
   "source": [
    "df_sessions = pd.read_csv(\"data/session_df.csv\")\n",
    "df_sessions.head()"
   ]
  },
  {
   "cell_type": "code",
   "execution_count": 20,
   "id": "d146e419",
   "metadata": {
    "ExecuteTime": {
     "end_time": "2024-03-11T09:28:41.830291Z",
     "start_time": "2024-03-11T09:28:41.816876Z"
    }
   },
   "outputs": [
    {
     "data": {
      "text/plain": [
       "10618"
      ]
     },
     "execution_count": 20,
     "metadata": {},
     "output_type": "execute_result"
    }
   ],
   "source": [
    "len(df_sessions.v_ids.unique())"
   ]
  },
  {
   "cell_type": "code",
   "execution_count": 21,
   "id": "477179b0",
   "metadata": {
    "ExecuteTime": {
     "end_time": "2024-03-11T09:28:53.856200Z",
     "start_time": "2024-03-11T09:28:53.841651Z"
    }
   },
   "outputs": [
    {
     "data": {
      "text/plain": [
       "Counter({'watching': 11475})"
      ]
     },
     "execution_count": 21,
     "metadata": {},
     "output_type": "execute_result"
    }
   ],
   "source": [
    "Counter(df_sessions.Action)"
   ]
  },
  {
   "cell_type": "markdown",
   "id": "338902f8",
   "metadata": {
    "ExecuteTime": {
     "end_time": "2023-10-09T08:37:26.546883Z",
     "start_time": "2023-10-09T08:37:26.540350Z"
    }
   },
   "source": [
    "# Descriptives on Information & Endorsment"
   ]
  },
  {
   "cell_type": "code",
   "execution_count": 22,
   "id": "35461b93",
   "metadata": {
    "ExecuteTime": {
     "end_time": "2023-11-30T12:50:29.845249Z",
     "start_time": "2023-11-30T12:50:29.765269Z"
    }
   },
   "outputs": [
    {
     "data": {
      "application/vnd.jupyter.widget-view+json": {
       "model_id": "27676eeeb3364d43bd746b3301158f48",
       "version_major": 2,
       "version_minor": 0
      },
      "text/plain": [
       "  0%|          | 0/18 [00:00<?, ?it/s]"
      ]
     },
     "metadata": {},
     "output_type": "display_data"
    },
    {
     "name": "stdout",
     "output_type": "stream",
     "text": [
      "6592\n",
      "4256\n",
      "8802\n",
      "8613\n",
      "5319\n",
      "1065\n",
      "4855\n",
      "7005\n",
      "9228\n",
      "8720\n",
      "2354\n",
      "6994\n",
      "6871\n",
      "3000\n",
      "5209\n",
      "6266\n",
      "1435\n",
      "6173\n"
     ]
    }
   ],
   "source": [
    "informative_videos = []\n",
    "info_and_passive = []\n",
    "non_info_and_passive = []\n",
    "info_and_active = []\n",
    "non_info_and_active = []\n",
    "\n",
    "n_sessions = []\n",
    "n_videos = []\n",
    "\n",
    "for i in tqdm(list(df_sessions[\"ID\"].unique())):\n",
    "    print(i)\n",
    "    session_df = df_sessions[df_sessions[\"ID\"]==i]\n",
    "    session_length = len(session_df)\n",
    "    \n",
    "    \n",
    "    frac_info = Counter(session_df[\"class\"])[1]/session_length \n",
    "    frac_info_passive = len(session_df[(session_df[\"class\"]==1) & (session_df[\"passive_endorsement\"]==1)])/len(session_df)\n",
    "    frac_info_active = len(session_df[(session_df[\"class\"]==1) & (session_df[\"active_engament\"]>=1)])/len(session_df)\n",
    "    frac_other_passive = len(session_df[(session_df[\"class\"]==0) & (session_df[\"passive_endorsement\"]==1)])/len(session_df)\n",
    "    frac_other_active = len(session_df[(session_df[\"class\"]==0) & (session_df[\"active_engament\"]>=1)])/len(session_df)\n",
    "\n",
    "    \n",
    "    informative_videos.append(frac_info)\n",
    "    info_and_passive.append(frac_info_passive)\n",
    "    info_and_active.append(frac_info_active)\n",
    "    non_info_and_passive.append(frac_other_passive)\n",
    "    non_info_and_active.append(frac_other_active)\n",
    "    n_sessions.append(len(session_df.session.unique()))\n",
    "    n_videos.append(len(session_df))\n"
   ]
  },
  {
   "cell_type": "code",
   "execution_count": 23,
   "id": "978328ae",
   "metadata": {
    "ExecuteTime": {
     "end_time": "2023-11-30T12:50:34.024464Z",
     "start_time": "2023-11-30T12:50:34.018504Z"
    }
   },
   "outputs": [],
   "source": [
    "agg_df = pd.DataFrame({\"info\":informative_videos,\n",
    "             \"info_passive\":info_and_passive,\n",
    "             \"other_passive\":non_info_and_passive,\n",
    "             \"info_active\":info_and_active,\n",
    "             \"other_active\":non_info_and_active,\n",
    "                      \"n_sessions\":n_sessions,\n",
    "                      \"n_videos\":n_videos}).round(2)"
   ]
  },
  {
   "cell_type": "code",
   "execution_count": 24,
   "id": "89938af7",
   "metadata": {
    "ExecuteTime": {
     "end_time": "2023-11-30T12:50:49.609730Z",
     "start_time": "2023-11-30T12:50:49.605101Z"
    }
   },
   "outputs": [
    {
     "data": {
      "text/plain": [
       "11475"
      ]
     },
     "execution_count": 24,
     "metadata": {},
     "output_type": "execute_result"
    }
   ],
   "source": [
    "agg_df.n_videos.sum()"
   ]
  },
  {
   "cell_type": "code",
   "execution_count": 25,
   "id": "2198b2a5",
   "metadata": {
    "ExecuteTime": {
     "end_time": "2023-11-30T12:50:35.039105Z",
     "start_time": "2023-11-30T12:50:35.021927Z"
    }
   },
   "outputs": [
    {
     "data": {
      "text/html": [
       "<div>\n",
       "<style scoped>\n",
       "    .dataframe tbody tr th:only-of-type {\n",
       "        vertical-align: middle;\n",
       "    }\n",
       "\n",
       "    .dataframe tbody tr th {\n",
       "        vertical-align: top;\n",
       "    }\n",
       "\n",
       "    .dataframe thead th {\n",
       "        text-align: right;\n",
       "    }\n",
       "</style>\n",
       "<table border=\"1\" class=\"dataframe\">\n",
       "  <thead>\n",
       "    <tr style=\"text-align: right;\">\n",
       "      <th></th>\n",
       "      <th>info</th>\n",
       "      <th>info_passive</th>\n",
       "      <th>other_passive</th>\n",
       "      <th>info_active</th>\n",
       "      <th>other_active</th>\n",
       "      <th>n_sessions</th>\n",
       "      <th>n_videos</th>\n",
       "    </tr>\n",
       "  </thead>\n",
       "  <tbody>\n",
       "    <tr>\n",
       "      <th>0</th>\n",
       "      <td>0.03</td>\n",
       "      <td>0.01</td>\n",
       "      <td>0.18</td>\n",
       "      <td>0.00</td>\n",
       "      <td>0.02</td>\n",
       "      <td>100</td>\n",
       "      <td>1482</td>\n",
       "    </tr>\n",
       "    <tr>\n",
       "      <th>1</th>\n",
       "      <td>0.02</td>\n",
       "      <td>0.01</td>\n",
       "      <td>0.66</td>\n",
       "      <td>0.00</td>\n",
       "      <td>0.04</td>\n",
       "      <td>31</td>\n",
       "      <td>140</td>\n",
       "    </tr>\n",
       "    <tr>\n",
       "      <th>2</th>\n",
       "      <td>0.05</td>\n",
       "      <td>0.01</td>\n",
       "      <td>0.05</td>\n",
       "      <td>0.00</td>\n",
       "      <td>0.00</td>\n",
       "      <td>100</td>\n",
       "      <td>2002</td>\n",
       "    </tr>\n",
       "    <tr>\n",
       "      <th>3</th>\n",
       "      <td>0.05</td>\n",
       "      <td>0.03</td>\n",
       "      <td>0.67</td>\n",
       "      <td>0.00</td>\n",
       "      <td>0.09</td>\n",
       "      <td>57</td>\n",
       "      <td>286</td>\n",
       "    </tr>\n",
       "    <tr>\n",
       "      <th>4</th>\n",
       "      <td>0.07</td>\n",
       "      <td>0.03</td>\n",
       "      <td>0.43</td>\n",
       "      <td>0.01</td>\n",
       "      <td>0.07</td>\n",
       "      <td>97</td>\n",
       "      <td>674</td>\n",
       "    </tr>\n",
       "    <tr>\n",
       "      <th>5</th>\n",
       "      <td>0.04</td>\n",
       "      <td>0.02</td>\n",
       "      <td>0.62</td>\n",
       "      <td>0.00</td>\n",
       "      <td>0.01</td>\n",
       "      <td>94</td>\n",
       "      <td>642</td>\n",
       "    </tr>\n",
       "    <tr>\n",
       "      <th>6</th>\n",
       "      <td>0.06</td>\n",
       "      <td>0.05</td>\n",
       "      <td>0.75</td>\n",
       "      <td>0.00</td>\n",
       "      <td>0.01</td>\n",
       "      <td>16</td>\n",
       "      <td>93</td>\n",
       "    </tr>\n",
       "    <tr>\n",
       "      <th>7</th>\n",
       "      <td>0.00</td>\n",
       "      <td>0.00</td>\n",
       "      <td>0.90</td>\n",
       "      <td>0.00</td>\n",
       "      <td>0.00</td>\n",
       "      <td>2</td>\n",
       "      <td>10</td>\n",
       "    </tr>\n",
       "    <tr>\n",
       "      <th>8</th>\n",
       "      <td>0.08</td>\n",
       "      <td>0.02</td>\n",
       "      <td>0.70</td>\n",
       "      <td>0.00</td>\n",
       "      <td>0.01</td>\n",
       "      <td>23</td>\n",
       "      <td>120</td>\n",
       "    </tr>\n",
       "    <tr>\n",
       "      <th>9</th>\n",
       "      <td>0.03</td>\n",
       "      <td>0.02</td>\n",
       "      <td>0.71</td>\n",
       "      <td>0.01</td>\n",
       "      <td>0.40</td>\n",
       "      <td>83</td>\n",
       "      <td>373</td>\n",
       "    </tr>\n",
       "    <tr>\n",
       "      <th>10</th>\n",
       "      <td>0.02</td>\n",
       "      <td>0.00</td>\n",
       "      <td>0.09</td>\n",
       "      <td>0.00</td>\n",
       "      <td>0.00</td>\n",
       "      <td>100</td>\n",
       "      <td>1349</td>\n",
       "    </tr>\n",
       "    <tr>\n",
       "      <th>11</th>\n",
       "      <td>0.03</td>\n",
       "      <td>0.00</td>\n",
       "      <td>0.20</td>\n",
       "      <td>0.00</td>\n",
       "      <td>0.00</td>\n",
       "      <td>96</td>\n",
       "      <td>1050</td>\n",
       "    </tr>\n",
       "    <tr>\n",
       "      <th>12</th>\n",
       "      <td>0.05</td>\n",
       "      <td>0.02</td>\n",
       "      <td>0.54</td>\n",
       "      <td>0.00</td>\n",
       "      <td>0.01</td>\n",
       "      <td>97</td>\n",
       "      <td>650</td>\n",
       "    </tr>\n",
       "    <tr>\n",
       "      <th>13</th>\n",
       "      <td>0.06</td>\n",
       "      <td>0.02</td>\n",
       "      <td>0.56</td>\n",
       "      <td>0.00</td>\n",
       "      <td>0.02</td>\n",
       "      <td>34</td>\n",
       "      <td>349</td>\n",
       "    </tr>\n",
       "    <tr>\n",
       "      <th>14</th>\n",
       "      <td>0.05</td>\n",
       "      <td>0.02</td>\n",
       "      <td>0.40</td>\n",
       "      <td>0.00</td>\n",
       "      <td>0.05</td>\n",
       "      <td>98</td>\n",
       "      <td>733</td>\n",
       "    </tr>\n",
       "    <tr>\n",
       "      <th>15</th>\n",
       "      <td>0.03</td>\n",
       "      <td>0.00</td>\n",
       "      <td>0.36</td>\n",
       "      <td>0.00</td>\n",
       "      <td>0.00</td>\n",
       "      <td>88</td>\n",
       "      <td>452</td>\n",
       "    </tr>\n",
       "    <tr>\n",
       "      <th>16</th>\n",
       "      <td>0.12</td>\n",
       "      <td>0.01</td>\n",
       "      <td>0.13</td>\n",
       "      <td>0.00</td>\n",
       "      <td>0.01</td>\n",
       "      <td>58</td>\n",
       "      <td>911</td>\n",
       "    </tr>\n",
       "    <tr>\n",
       "      <th>17</th>\n",
       "      <td>0.07</td>\n",
       "      <td>0.03</td>\n",
       "      <td>0.54</td>\n",
       "      <td>0.00</td>\n",
       "      <td>0.00</td>\n",
       "      <td>9</td>\n",
       "      <td>159</td>\n",
       "    </tr>\n",
       "  </tbody>\n",
       "</table>\n",
       "</div>"
      ],
      "text/plain": [
       "    info  info_passive  other_passive  info_active  other_active  n_sessions  \\\n",
       "0   0.03          0.01           0.18         0.00          0.02         100   \n",
       "1   0.02          0.01           0.66         0.00          0.04          31   \n",
       "2   0.05          0.01           0.05         0.00          0.00         100   \n",
       "3   0.05          0.03           0.67         0.00          0.09          57   \n",
       "4   0.07          0.03           0.43         0.01          0.07          97   \n",
       "5   0.04          0.02           0.62         0.00          0.01          94   \n",
       "6   0.06          0.05           0.75         0.00          0.01          16   \n",
       "7   0.00          0.00           0.90         0.00          0.00           2   \n",
       "8   0.08          0.02           0.70         0.00          0.01          23   \n",
       "9   0.03          0.02           0.71         0.01          0.40          83   \n",
       "10  0.02          0.00           0.09         0.00          0.00         100   \n",
       "11  0.03          0.00           0.20         0.00          0.00          96   \n",
       "12  0.05          0.02           0.54         0.00          0.01          97   \n",
       "13  0.06          0.02           0.56         0.00          0.02          34   \n",
       "14  0.05          0.02           0.40         0.00          0.05          98   \n",
       "15  0.03          0.00           0.36         0.00          0.00          88   \n",
       "16  0.12          0.01           0.13         0.00          0.01          58   \n",
       "17  0.07          0.03           0.54         0.00          0.00           9   \n",
       "\n",
       "    n_videos  \n",
       "0       1482  \n",
       "1        140  \n",
       "2       2002  \n",
       "3        286  \n",
       "4        674  \n",
       "5        642  \n",
       "6         93  \n",
       "7         10  \n",
       "8        120  \n",
       "9        373  \n",
       "10      1349  \n",
       "11      1050  \n",
       "12       650  \n",
       "13       349  \n",
       "14       733  \n",
       "15       452  \n",
       "16       911  \n",
       "17       159  "
      ]
     },
     "execution_count": 25,
     "metadata": {},
     "output_type": "execute_result"
    }
   ],
   "source": [
    "agg_df"
   ]
  },
  {
   "cell_type": "code",
   "execution_count": 26,
   "id": "b53ab693",
   "metadata": {
    "ExecuteTime": {
     "end_time": "2023-11-30T12:50:38.669915Z",
     "start_time": "2023-11-30T12:50:38.662250Z"
    }
   },
   "outputs": [
    {
     "data": {
      "text/plain": [
       "info               0.05\n",
       "info_passive       0.02\n",
       "other_passive      0.47\n",
       "info_active        0.00\n",
       "other_active       0.04\n",
       "n_sessions        65.72\n",
       "n_videos         637.50\n",
       "dtype: float64"
      ]
     },
     "execution_count": 26,
     "metadata": {},
     "output_type": "execute_result"
    }
   ],
   "source": [
    "agg_df.mean().round(2)"
   ]
  },
  {
   "cell_type": "code",
   "execution_count": 27,
   "id": "03c32dcc",
   "metadata": {
    "ExecuteTime": {
     "end_time": "2023-10-09T15:58:21.209276Z",
     "start_time": "2023-10-09T15:58:21.207629Z"
    }
   },
   "outputs": [],
   "source": [
    "# Regrssion on agg"
   ]
  },
  {
   "cell_type": "code",
   "execution_count": 28,
   "id": "1316678f",
   "metadata": {
    "ExecuteTime": {
     "end_time": "2023-10-10T11:50:25.529515Z",
     "start_time": "2023-10-10T11:50:25.127935Z"
    }
   },
   "outputs": [
    {
     "data": {
      "text/plain": [
       "<Axes: xlabel='info', ylabel='info_passive'>"
      ]
     },
     "execution_count": 28,
     "metadata": {},
     "output_type": "execute_result"
    },
    {
     "data": {
      "image/png": "[encoded data removed]",
      "text/plain": [
       "<Figure size 640x480 with 1 Axes>"
      ]
     },
     "metadata": {},
     "output_type": "display_data"
    }
   ],
   "source": [
    "agg_df.plot(x=\"info\",y=\"info_passive\",kind=\"scatter\")"
   ]
  },
  {
   "cell_type": "markdown",
   "id": "54ac42b2",
   "metadata": {},
   "source": [
    "# Analyse (per user per session) - aggegated on user us not possible for too few datapoints"
   ]
  },
  {
   "cell_type": "code",
   "execution_count": 29,
   "id": "333d34c7",
   "metadata": {
    "ExecuteTime": {
     "end_time": "2023-10-10T11:55:56.264243Z",
     "start_time": "2023-10-10T11:55:56.254842Z"
    }
   },
   "outputs": [
    {
     "data": {
      "text/plain": [
       "array([6592, 4256, 8802, 8613, 5319, 1065, 4855, 7005, 9228, 8720, 2354,\n",
       "       6994, 6871, 3000, 5209, 6266, 1435, 6173])"
      ]
     },
     "execution_count": 29,
     "metadata": {},
     "output_type": "execute_result"
    }
   ],
   "source": [
    "df_sessions[\"ID\"].unique()"
   ]
  },
  {
   "cell_type": "code",
   "execution_count": 30,
   "id": "1bed43d0",
   "metadata": {
    "ExecuteTime": {
     "end_time": "2023-10-10T11:55:56.880337Z",
     "start_time": "2023-10-10T11:55:56.873888Z"
    }
   },
   "outputs": [],
   "source": [
    "temp_df = df_sessions[df_sessions[\"ID\"]==6592]"
   ]
  },
  {
   "cell_type": "code",
   "execution_count": 31,
   "id": "d04da18e",
   "metadata": {
    "ExecuteTime": {
     "end_time": "2023-10-10T11:55:58.418022Z",
     "start_time": "2023-10-10T11:55:57.453388Z"
    }
   },
   "outputs": [
    {
     "data": {
      "application/vnd.jupyter.widget-view+json": {
       "model_id": "174809e351ee4c6c9e9cfb2857d92c06",
       "version_major": 2,
       "version_minor": 0
      },
      "text/plain": [
       "  0%|          | 0/18 [00:00<?, ?it/s]"
      ]
     },
     "metadata": {},
     "output_type": "display_data"
    },
    {
     "data": {
      "application/vnd.jupyter.widget-view+json": {
       "model_id": "2fde106f249d40a281e7af1e49199ee7",
       "version_major": 2,
       "version_minor": 0
      },
      "text/plain": [
       "  0%|          | 0/100 [00:00<?, ?it/s]"
      ]
     },
     "metadata": {},
     "output_type": "display_data"
    },
    {
     "data": {
      "application/vnd.jupyter.widget-view+json": {
       "model_id": "a476f99a4fcd4869bbb0691300eeae41",
       "version_major": 2,
       "version_minor": 0
      },
      "text/plain": [
       "  0%|          | 0/31 [00:00<?, ?it/s]"
      ]
     },
     "metadata": {},
     "output_type": "display_data"
    },
    {
     "data": {
      "application/vnd.jupyter.widget-view+json": {
       "model_id": "0fb8fcd38ca2410e8662b35542dff5dc",
       "version_major": 2,
       "version_minor": 0
      },
      "text/plain": [
       "  0%|          | 0/100 [00:00<?, ?it/s]"
      ]
     },
     "metadata": {},
     "output_type": "display_data"
    },
    {
     "data": {
      "application/vnd.jupyter.widget-view+json": {
       "model_id": "b2006be47e6c4ea69c57e65ea1662f49",
       "version_major": 2,
       "version_minor": 0
      },
      "text/plain": [
       "  0%|          | 0/57 [00:00<?, ?it/s]"
      ]
     },
     "metadata": {},
     "output_type": "display_data"
    },
    {
     "data": {
      "application/vnd.jupyter.widget-view+json": {
       "model_id": "9d811d90c76b4141bb26bd7829174bc9",
       "version_major": 2,
       "version_minor": 0
      },
      "text/plain": [
       "  0%|          | 0/97 [00:00<?, ?it/s]"
      ]
     },
     "metadata": {},
     "output_type": "display_data"
    },
    {
     "data": {
      "application/vnd.jupyter.widget-view+json": {
       "model_id": "29e6f81a6c4a46b181d1df47b18646b3",
       "version_major": 2,
       "version_minor": 0
      },
      "text/plain": [
       "  0%|          | 0/94 [00:00<?, ?it/s]"
      ]
     },
     "metadata": {},
     "output_type": "display_data"
    },
    {
     "data": {
      "application/vnd.jupyter.widget-view+json": {
       "model_id": "96aa4a6d10564dc2b743d3768ef9964b",
       "version_major": 2,
       "version_minor": 0
      },
      "text/plain": [
       "  0%|          | 0/16 [00:00<?, ?it/s]"
      ]
     },
     "metadata": {},
     "output_type": "display_data"
    },
    {
     "data": {
      "application/vnd.jupyter.widget-view+json": {
       "model_id": "00828dfb256448c9abd221a8ad8dc4db",
       "version_major": 2,
       "version_minor": 0
      },
      "text/plain": [
       "  0%|          | 0/2 [00:00<?, ?it/s]"
      ]
     },
     "metadata": {},
     "output_type": "display_data"
    },
    {
     "data": {
      "application/vnd.jupyter.widget-view+json": {
       "model_id": "ecced0f2e5624c1eadf4435ad579948a",
       "version_major": 2,
       "version_minor": 0
      },
      "text/plain": [
       "  0%|          | 0/23 [00:00<?, ?it/s]"
      ]
     },
     "metadata": {},
     "output_type": "display_data"
    },
    {
     "data": {
      "application/vnd.jupyter.widget-view+json": {
       "model_id": "7ac0cae566af42c6bdcf6aef8753ca8b",
       "version_major": 2,
       "version_minor": 0
      },
      "text/plain": [
       "  0%|          | 0/83 [00:00<?, ?it/s]"
      ]
     },
     "metadata": {},
     "output_type": "display_data"
    },
    {
     "data": {
      "application/vnd.jupyter.widget-view+json": {
       "model_id": "c6949eeb94f44340b0083437bfe81fc9",
       "version_major": 2,
       "version_minor": 0
      },
      "text/plain": [
       "  0%|          | 0/100 [00:00<?, ?it/s]"
      ]
     },
     "metadata": {},
     "output_type": "display_data"
    },
    {
     "data": {
      "application/vnd.jupyter.widget-view+json": {
       "model_id": "4bbb49c88a9540d8975e471a825bead8",
       "version_major": 2,
       "version_minor": 0
      },
      "text/plain": [
       "  0%|          | 0/96 [00:00<?, ?it/s]"
      ]
     },
     "metadata": {},
     "output_type": "display_data"
    },
    {
     "data": {
      "application/vnd.jupyter.widget-view+json": {
       "model_id": "4b10bd2dd70f4ccabe76fcab65e288ed",
       "version_major": 2,
       "version_minor": 0
      },
      "text/plain": [
       "  0%|          | 0/97 [00:00<?, ?it/s]"
      ]
     },
     "metadata": {},
     "output_type": "display_data"
    },
    {
     "data": {
      "application/vnd.jupyter.widget-view+json": {
       "model_id": "38b8b6149c8343b288c25d3a0c412c63",
       "version_major": 2,
       "version_minor": 0
      },
      "text/plain": [
       "  0%|          | 0/34 [00:00<?, ?it/s]"
      ]
     },
     "metadata": {},
     "output_type": "display_data"
    },
    {
     "data": {
      "application/vnd.jupyter.widget-view+json": {
       "model_id": "c7d555197bab477286e32dd5b6fd1f30",
       "version_major": 2,
       "version_minor": 0
      },
      "text/plain": [
       "  0%|          | 0/98 [00:00<?, ?it/s]"
      ]
     },
     "metadata": {},
     "output_type": "display_data"
    },
    {
     "data": {
      "application/vnd.jupyter.widget-view+json": {
       "model_id": "ac9cf7f2c4a04be28f3bec706920ea23",
       "version_major": 2,
       "version_minor": 0
      },
      "text/plain": [
       "  0%|          | 0/88 [00:00<?, ?it/s]"
      ]
     },
     "metadata": {},
     "output_type": "display_data"
    },
    {
     "data": {
      "application/vnd.jupyter.widget-view+json": {
       "model_id": "d0a11f95994c45e4828456ffc76ed913",
       "version_major": 2,
       "version_minor": 0
      },
      "text/plain": [
       "  0%|          | 0/58 [00:00<?, ?it/s]"
      ]
     },
     "metadata": {},
     "output_type": "display_data"
    },
    {
     "data": {
      "application/vnd.jupyter.widget-view+json": {
       "model_id": "f7b1a5b37a2144daa84805575056a751",
       "version_major": 2,
       "version_minor": 0
      },
      "text/plain": [
       "  0%|          | 0/9 [00:00<?, ?it/s]"
      ]
     },
     "metadata": {},
     "output_type": "display_data"
    }
   ],
   "source": [
    "\n",
    "results = {}\n",
    "for u_id in tqdm(df_sessions[\"ID\"].unique()):\n",
    "    informative_videos = []\n",
    "    info_and_passive = []\n",
    "    non_info_and_passive = []\n",
    "    info_and_active = []\n",
    "    non_info_and_active = []\n",
    "\n",
    "    temp_df = df_sessions[df_sessions[\"ID\"]==u_id]\n",
    "    \n",
    "    for i in tqdm(list(temp_df[\"session\"].unique())):\n",
    "        session_df = temp_df[temp_df[\"session\"]==i]\n",
    "        session_length = len(session_df)\n",
    "\n",
    "\n",
    "        frac_info = Counter(session_df[\"class\"])[0]/session_length \n",
    "        frac_info_passive = len(session_df[(session_df[\"class\"]==0) & (session_df[\"passive_endorsement\"]==1)])/len(session_df)\n",
    "        frac_info_active = len(session_df[(session_df[\"class\"]==0) & (session_df[\"active_engament\"]>=1)])/len(session_df)\n",
    "        frac_other_passive = len(session_df[(session_df[\"class\"]==1) & (session_df[\"passive_endorsement\"]==1)])/len(session_df)\n",
    "        frac_other_active = len(session_df[(session_df[\"class\"]==1) & (session_df[\"active_engament\"]>=1)])/len(session_df)\n",
    "\n",
    "\n",
    "        informative_videos.append(frac_info)\n",
    "        info_and_passive.append(frac_info_passive)\n",
    "        info_and_active.append(frac_info_active)\n",
    "        non_info_and_passive.append(frac_other_passive)\n",
    "        non_info_and_active.append(frac_other_active)\n",
    "\n",
    "    agg_df = pd.DataFrame({\"info\":informative_videos,\n",
    "             \"info_passive\":info_and_passive,\n",
    "             \"other_passive\":non_info_and_passive,\n",
    "             \"info_active\":info_and_active,\n",
    "             \"other_active\":non_info_and_active}).round(2)\n",
    "    #agg_df.plot(x=\"info_passive\",y=\"info\",kind=\"scatter\")\n",
    "\n",
    "    \n",
    "    # passive\n",
    "    x = agg_df[\"info_passive\"]\n",
    "    if sum(x) != 0:\n",
    "        y = agg_df[\"info\"]\n",
    "\n",
    "        x = x[:-1]\n",
    "        y = y[1:]\n",
    "\n",
    "        result = scipy.stats.linregress(x, y)\n",
    "\n",
    "        p = result.pvalue\n",
    "        r = result.rvalue\n",
    "\n",
    "        results[(u_id,\"passive\")] = (p,r)\n",
    "\n",
    "    else:\n",
    "        results[(u_id,\"passive\")] = (None,None)\n",
    "\n",
    "    # active\n",
    "    x = agg_df[\"info_active\"]\n",
    "    if sum(x) != 0:\n",
    "        y = agg_df[\"info\"]\n",
    "        \n",
    "        x = x[:-1]\n",
    "        y = y[1:]\n",
    "        result = scipy.stats.linregress(x, y)\n",
    "\n",
    "        p = result.pvalue\n",
    "        r = result.rvalue\n",
    "        results[(u_id,\"active\")] = (p,r)\n",
    "        \n",
    "        try:\n",
    "            # comined\n",
    "            x = np.array(agg_df[[\"info_passive\",\"info_active\"]])\n",
    "            y = agg_df[\"info\"]\n",
    "            x = x[:-1]\n",
    "            y = y[1:]\n",
    "            result = scipy.stats.linregress(x, y)\n",
    "\n",
    "            p = result.pvalue\n",
    "            r = result.rvalue\n",
    "            results[(u_id,\"combined\")] = (p,r)\n",
    "        except:\n",
    "            results[(u_id,\"combined\")] = (None,None)\n",
    "\n",
    "    else:\n",
    "        results[(u_id,\"active\")] = (None,None)\n",
    "        results[(u_id,\"combined\")] = (None,None)\n"
   ]
  },
  {
   "cell_type": "code",
   "execution_count": 32,
   "id": "d948b9ce",
   "metadata": {
    "ExecuteTime": {
     "end_time": "2023-10-10T12:05:55.651848Z",
     "start_time": "2023-10-10T12:05:55.633034Z"
    }
   },
   "outputs": [
    {
     "data": {
      "text/html": [
       "<div>\n",
       "<style scoped>\n",
       "    .dataframe tbody tr th:only-of-type {\n",
       "        vertical-align: middle;\n",
       "    }\n",
       "\n",
       "    .dataframe tbody tr th {\n",
       "        vertical-align: top;\n",
       "    }\n",
       "\n",
       "    .dataframe thead th {\n",
       "        text-align: right;\n",
       "    }\n",
       "</style>\n",
       "<table border=\"1\" class=\"dataframe\">\n",
       "  <thead>\n",
       "    <tr style=\"text-align: right;\">\n",
       "      <th></th>\n",
       "      <th></th>\n",
       "      <th>0</th>\n",
       "      <th>1</th>\n",
       "    </tr>\n",
       "  </thead>\n",
       "  <tbody>\n",
       "    <tr>\n",
       "      <th rowspan=\"3\" valign=\"top\">6592</th>\n",
       "      <th>passive</th>\n",
       "      <td>0.800154</td>\n",
       "      <td>0.025765</td>\n",
       "    </tr>\n",
       "    <tr>\n",
       "      <th>active</th>\n",
       "      <td>0.837115</td>\n",
       "      <td>-0.020926</td>\n",
       "    </tr>\n",
       "    <tr>\n",
       "      <th>combined</th>\n",
       "      <td>None</td>\n",
       "      <td>None</td>\n",
       "    </tr>\n",
       "    <tr>\n",
       "      <th rowspan=\"3\" valign=\"top\">4256</th>\n",
       "      <th>passive</th>\n",
       "      <td>0.480764</td>\n",
       "      <td>-0.133834</td>\n",
       "    </tr>\n",
       "    <tr>\n",
       "      <th>active</th>\n",
       "      <td>0.636308</td>\n",
       "      <td>0.089981</td>\n",
       "    </tr>\n",
       "    <tr>\n",
       "      <th>combined</th>\n",
       "      <td>None</td>\n",
       "      <td>None</td>\n",
       "    </tr>\n",
       "    <tr>\n",
       "      <th rowspan=\"3\" valign=\"top\">8802</th>\n",
       "      <th>passive</th>\n",
       "      <td>0.73123</td>\n",
       "      <td>0.034955</td>\n",
       "    </tr>\n",
       "    <tr>\n",
       "      <th>active</th>\n",
       "      <td>None</td>\n",
       "      <td>None</td>\n",
       "    </tr>\n",
       "    <tr>\n",
       "      <th>combined</th>\n",
       "      <td>None</td>\n",
       "      <td>None</td>\n",
       "    </tr>\n",
       "    <tr>\n",
       "      <th rowspan=\"3\" valign=\"top\">8613</th>\n",
       "      <th>passive</th>\n",
       "      <td>0.040976</td>\n",
       "      <td>0.274038</td>\n",
       "    </tr>\n",
       "    <tr>\n",
       "      <th>active</th>\n",
       "      <td>0.47943</td>\n",
       "      <td>0.096461</td>\n",
       "    </tr>\n",
       "    <tr>\n",
       "      <th>combined</th>\n",
       "      <td>None</td>\n",
       "      <td>None</td>\n",
       "    </tr>\n",
       "    <tr>\n",
       "      <th rowspan=\"3\" valign=\"top\">5319</th>\n",
       "      <th>passive</th>\n",
       "      <td>0.258683</td>\n",
       "      <td>0.116413</td>\n",
       "    </tr>\n",
       "    <tr>\n",
       "      <th>active</th>\n",
       "      <td>0.096424</td>\n",
       "      <td>0.170661</td>\n",
       "    </tr>\n",
       "    <tr>\n",
       "      <th>combined</th>\n",
       "      <td>None</td>\n",
       "      <td>None</td>\n",
       "    </tr>\n",
       "    <tr>\n",
       "      <th rowspan=\"3\" valign=\"top\">1065</th>\n",
       "      <th>passive</th>\n",
       "      <td>0.019493</td>\n",
       "      <td>0.241892</td>\n",
       "    </tr>\n",
       "    <tr>\n",
       "      <th>active</th>\n",
       "      <td>0.969279</td>\n",
       "      <td>0.004048</td>\n",
       "    </tr>\n",
       "    <tr>\n",
       "      <th>combined</th>\n",
       "      <td>None</td>\n",
       "      <td>None</td>\n",
       "    </tr>\n",
       "    <tr>\n",
       "      <th rowspan=\"3\" valign=\"top\">4855</th>\n",
       "      <th>passive</th>\n",
       "      <td>0.537152</td>\n",
       "      <td>-0.173152</td>\n",
       "    </tr>\n",
       "    <tr>\n",
       "      <th>active</th>\n",
       "      <td>0.800296</td>\n",
       "      <td>0.071429</td>\n",
       "    </tr>\n",
       "    <tr>\n",
       "      <th>combined</th>\n",
       "      <td>None</td>\n",
       "      <td>None</td>\n",
       "    </tr>\n",
       "    <tr>\n",
       "      <th rowspan=\"3\" valign=\"top\">7005</th>\n",
       "      <th>passive</th>\n",
       "      <td>NaN</td>\n",
       "      <td>0.0</td>\n",
       "    </tr>\n",
       "    <tr>\n",
       "      <th>active</th>\n",
       "      <td>None</td>\n",
       "      <td>None</td>\n",
       "    </tr>\n",
       "    <tr>\n",
       "      <th>combined</th>\n",
       "      <td>None</td>\n",
       "      <td>None</td>\n",
       "    </tr>\n",
       "    <tr>\n",
       "      <th rowspan=\"3\" valign=\"top\">9228</th>\n",
       "      <th>passive</th>\n",
       "      <td>0.158148</td>\n",
       "      <td>0.311532</td>\n",
       "    </tr>\n",
       "    <tr>\n",
       "      <th>active</th>\n",
       "      <td>0.597679</td>\n",
       "      <td>0.119063</td>\n",
       "    </tr>\n",
       "    <tr>\n",
       "      <th>combined</th>\n",
       "      <td>None</td>\n",
       "      <td>None</td>\n",
       "    </tr>\n",
       "    <tr>\n",
       "      <th rowspan=\"3\" valign=\"top\">8720</th>\n",
       "      <th>passive</th>\n",
       "      <td>0.416919</td>\n",
       "      <td>-0.090855</td>\n",
       "    </tr>\n",
       "    <tr>\n",
       "      <th>active</th>\n",
       "      <td>0.185416</td>\n",
       "      <td>-0.147704</td>\n",
       "    </tr>\n",
       "    <tr>\n",
       "      <th>combined</th>\n",
       "      <td>None</td>\n",
       "      <td>None</td>\n",
       "    </tr>\n",
       "    <tr>\n",
       "      <th rowspan=\"3\" valign=\"top\">2354</th>\n",
       "      <th>passive</th>\n",
       "      <td>0.197617</td>\n",
       "      <td>0.130589</td>\n",
       "    </tr>\n",
       "    <tr>\n",
       "      <th>active</th>\n",
       "      <td>0.572158</td>\n",
       "      <td>0.057455</td>\n",
       "    </tr>\n",
       "    <tr>\n",
       "      <th>combined</th>\n",
       "      <td>None</td>\n",
       "      <td>None</td>\n",
       "    </tr>\n",
       "    <tr>\n",
       "      <th rowspan=\"3\" valign=\"top\">6994</th>\n",
       "      <th>passive</th>\n",
       "      <td>0.225317</td>\n",
       "      <td>-0.12557</td>\n",
       "    </tr>\n",
       "    <tr>\n",
       "      <th>active</th>\n",
       "      <td>0.557805</td>\n",
       "      <td>0.060883</td>\n",
       "    </tr>\n",
       "    <tr>\n",
       "      <th>combined</th>\n",
       "      <td>None</td>\n",
       "      <td>None</td>\n",
       "    </tr>\n",
       "    <tr>\n",
       "      <th rowspan=\"3\" valign=\"top\">6871</th>\n",
       "      <th>passive</th>\n",
       "      <td>0.698392</td>\n",
       "      <td>-0.040057</td>\n",
       "    </tr>\n",
       "    <tr>\n",
       "      <th>active</th>\n",
       "      <td>0.942499</td>\n",
       "      <td>-0.007459</td>\n",
       "    </tr>\n",
       "    <tr>\n",
       "      <th>combined</th>\n",
       "      <td>None</td>\n",
       "      <td>None</td>\n",
       "    </tr>\n",
       "    <tr>\n",
       "      <th rowspan=\"3\" valign=\"top\">3000</th>\n",
       "      <th>passive</th>\n",
       "      <td>0.285494</td>\n",
       "      <td>-0.191583</td>\n",
       "    </tr>\n",
       "    <tr>\n",
       "      <th>active</th>\n",
       "      <td>0.245985</td>\n",
       "      <td>-0.207755</td>\n",
       "    </tr>\n",
       "    <tr>\n",
       "      <th>combined</th>\n",
       "      <td>None</td>\n",
       "      <td>None</td>\n",
       "    </tr>\n",
       "    <tr>\n",
       "      <th rowspan=\"3\" valign=\"top\">5209</th>\n",
       "      <th>passive</th>\n",
       "      <td>0.547311</td>\n",
       "      <td>-0.061846</td>\n",
       "    </tr>\n",
       "    <tr>\n",
       "      <th>active</th>\n",
       "      <td>0.375487</td>\n",
       "      <td>0.090977</td>\n",
       "    </tr>\n",
       "    <tr>\n",
       "      <th>combined</th>\n",
       "      <td>None</td>\n",
       "      <td>None</td>\n",
       "    </tr>\n",
       "    <tr>\n",
       "      <th rowspan=\"3\" valign=\"top\">6266</th>\n",
       "      <th>passive</th>\n",
       "      <td>0.384561</td>\n",
       "      <td>-0.094379</td>\n",
       "    </tr>\n",
       "    <tr>\n",
       "      <th>active</th>\n",
       "      <td>None</td>\n",
       "      <td>None</td>\n",
       "    </tr>\n",
       "    <tr>\n",
       "      <th>combined</th>\n",
       "      <td>None</td>\n",
       "      <td>None</td>\n",
       "    </tr>\n",
       "    <tr>\n",
       "      <th rowspan=\"3\" valign=\"top\">1435</th>\n",
       "      <th>passive</th>\n",
       "      <td>0.522103</td>\n",
       "      <td>0.086542</td>\n",
       "    </tr>\n",
       "    <tr>\n",
       "      <th>active</th>\n",
       "      <td>0.425668</td>\n",
       "      <td>-0.107593</td>\n",
       "    </tr>\n",
       "    <tr>\n",
       "      <th>combined</th>\n",
       "      <td>None</td>\n",
       "      <td>None</td>\n",
       "    </tr>\n",
       "    <tr>\n",
       "      <th rowspan=\"3\" valign=\"top\">6173</th>\n",
       "      <th>passive</th>\n",
       "      <td>0.132603</td>\n",
       "      <td>0.579</td>\n",
       "    </tr>\n",
       "    <tr>\n",
       "      <th>active</th>\n",
       "      <td>None</td>\n",
       "      <td>None</td>\n",
       "    </tr>\n",
       "    <tr>\n",
       "      <th>combined</th>\n",
       "      <td>None</td>\n",
       "      <td>None</td>\n",
       "    </tr>\n",
       "  </tbody>\n",
       "</table>\n",
       "</div>"
      ],
      "text/plain": [
       "                      0         1\n",
       "6592 passive   0.800154  0.025765\n",
       "     active    0.837115 -0.020926\n",
       "     combined      None      None\n",
       "4256 passive   0.480764 -0.133834\n",
       "     active    0.636308  0.089981\n",
       "     combined      None      None\n",
       "8802 passive    0.73123  0.034955\n",
       "     active        None      None\n",
       "     combined      None      None\n",
       "8613 passive   0.040976  0.274038\n",
       "     active     0.47943  0.096461\n",
       "     combined      None      None\n",
       "5319 passive   0.258683  0.116413\n",
       "     active    0.096424  0.170661\n",
       "     combined      None      None\n",
       "1065 passive   0.019493  0.241892\n",
       "     active    0.969279  0.004048\n",
       "     combined      None      None\n",
       "4855 passive   0.537152 -0.173152\n",
       "     active    0.800296  0.071429\n",
       "     combined      None      None\n",
       "7005 passive        NaN       0.0\n",
       "     active        None      None\n",
       "     combined      None      None\n",
       "9228 passive   0.158148  0.311532\n",
       "     active    0.597679  0.119063\n",
       "     combined      None      None\n",
       "8720 passive   0.416919 -0.090855\n",
       "     active    0.185416 -0.147704\n",
       "     combined      None      None\n",
       "2354 passive   0.197617  0.130589\n",
       "     active    0.572158  0.057455\n",
       "     combined      None      None\n",
       "6994 passive   0.225317  -0.12557\n",
       "     active    0.557805  0.060883\n",
       "     combined      None      None\n",
       "6871 passive   0.698392 -0.040057\n",
       "     active    0.942499 -0.007459\n",
       "     combined      None      None\n",
       "3000 passive   0.285494 -0.191583\n",
       "     active    0.245985 -0.207755\n",
       "     combined      None      None\n",
       "5209 passive   0.547311 -0.061846\n",
       "     active    0.375487  0.090977\n",
       "     combined      None      None\n",
       "6266 passive   0.384561 -0.094379\n",
       "     active        None      None\n",
       "     combined      None      None\n",
       "1435 passive   0.522103  0.086542\n",
       "     active    0.425668 -0.107593\n",
       "     combined      None      None\n",
       "6173 passive   0.132603     0.579\n",
       "     active        None      None\n",
       "     combined      None      None"
      ]
     },
     "execution_count": 32,
     "metadata": {},
     "output_type": "execute_result"
    }
   ],
   "source": [
    "pd.DataFrame(results).transpose() # versetzt (next session)"
   ]
  },
  {
   "cell_type": "markdown",
   "id": "5385094f",
   "metadata": {},
   "source": [
    "# Within session"
   ]
  },
  {
   "cell_type": "code",
   "execution_count": 33,
   "id": "bc71ce91",
   "metadata": {
    "ExecuteTime": {
     "end_time": "2023-10-10T11:58:05.746660Z",
     "start_time": "2023-10-10T11:58:05.297603Z"
    }
   },
   "outputs": [
    {
     "data": {
      "application/vnd.jupyter.widget-view+json": {
       "model_id": "7e71a111d4604da681d41b69be8e7b09",
       "version_major": 2,
       "version_minor": 0
      },
      "text/plain": [
       "  0%|          | 0/18 [00:00<?, ?it/s]"
      ]
     },
     "metadata": {},
     "output_type": "display_data"
    },
    {
     "data": {
      "application/vnd.jupyter.widget-view+json": {
       "model_id": "85021b399c564e679676d239df58e292",
       "version_major": 2,
       "version_minor": 0
      },
      "text/plain": [
       "  0%|          | 0/100 [00:00<?, ?it/s]"
      ]
     },
     "metadata": {},
     "output_type": "display_data"
    },
    {
     "data": {
      "application/vnd.jupyter.widget-view+json": {
       "model_id": "dc5c2f46d017490788fba660f861b489",
       "version_major": 2,
       "version_minor": 0
      },
      "text/plain": [
       "  0%|          | 0/31 [00:00<?, ?it/s]"
      ]
     },
     "metadata": {},
     "output_type": "display_data"
    },
    {
     "data": {
      "application/vnd.jupyter.widget-view+json": {
       "model_id": "ecd78311afdd4005a36cf4de3fb1eb55",
       "version_major": 2,
       "version_minor": 0
      },
      "text/plain": [
       "  0%|          | 0/100 [00:00<?, ?it/s]"
      ]
     },
     "metadata": {},
     "output_type": "display_data"
    },
    {
     "data": {
      "application/vnd.jupyter.widget-view+json": {
       "model_id": "af1036286bf148b3bca784dc53d61268",
       "version_major": 2,
       "version_minor": 0
      },
      "text/plain": [
       "  0%|          | 0/57 [00:00<?, ?it/s]"
      ]
     },
     "metadata": {},
     "output_type": "display_data"
    },
    {
     "data": {
      "application/vnd.jupyter.widget-view+json": {
       "model_id": "4daca393cf7d4877bf65eb34c1c20852",
       "version_major": 2,
       "version_minor": 0
      },
      "text/plain": [
       "  0%|          | 0/97 [00:00<?, ?it/s]"
      ]
     },
     "metadata": {},
     "output_type": "display_data"
    },
    {
     "data": {
      "application/vnd.jupyter.widget-view+json": {
       "model_id": "10630b809a1a4dd88091b077441956a3",
       "version_major": 2,
       "version_minor": 0
      },
      "text/plain": [
       "  0%|          | 0/94 [00:00<?, ?it/s]"
      ]
     },
     "metadata": {},
     "output_type": "display_data"
    },
    {
     "data": {
      "application/vnd.jupyter.widget-view+json": {
       "model_id": "b76171ac38e141979a84e48694f7903b",
       "version_major": 2,
       "version_minor": 0
      },
      "text/plain": [
       "  0%|          | 0/16 [00:00<?, ?it/s]"
      ]
     },
     "metadata": {},
     "output_type": "display_data"
    },
    {
     "data": {
      "application/vnd.jupyter.widget-view+json": {
       "model_id": "3b27962c8f034fbea42ab584eb9abd6f",
       "version_major": 2,
       "version_minor": 0
      },
      "text/plain": [
       "  0%|          | 0/2 [00:00<?, ?it/s]"
      ]
     },
     "metadata": {},
     "output_type": "display_data"
    },
    {
     "data": {
      "application/vnd.jupyter.widget-view+json": {
       "model_id": "306cbdac933245b48398964e71ccae3e",
       "version_major": 2,
       "version_minor": 0
      },
      "text/plain": [
       "  0%|          | 0/23 [00:00<?, ?it/s]"
      ]
     },
     "metadata": {},
     "output_type": "display_data"
    },
    {
     "data": {
      "application/vnd.jupyter.widget-view+json": {
       "model_id": "1ffe57e79d2d4a7aba112428e2a720d3",
       "version_major": 2,
       "version_minor": 0
      },
      "text/plain": [
       "  0%|          | 0/83 [00:00<?, ?it/s]"
      ]
     },
     "metadata": {},
     "output_type": "display_data"
    },
    {
     "data": {
      "application/vnd.jupyter.widget-view+json": {
       "model_id": "3337a2768ac643999718c4646ba2f408",
       "version_major": 2,
       "version_minor": 0
      },
      "text/plain": [
       "  0%|          | 0/100 [00:00<?, ?it/s]"
      ]
     },
     "metadata": {},
     "output_type": "display_data"
    },
    {
     "data": {
      "application/vnd.jupyter.widget-view+json": {
       "model_id": "80d51144f44e460bb399096dfd4e55f8",
       "version_major": 2,
       "version_minor": 0
      },
      "text/plain": [
       "  0%|          | 0/96 [00:00<?, ?it/s]"
      ]
     },
     "metadata": {},
     "output_type": "display_data"
    },
    {
     "data": {
      "application/vnd.jupyter.widget-view+json": {
       "model_id": "46b002f8f5ed4307b53fb8bfbc0a98cc",
       "version_major": 2,
       "version_minor": 0
      },
      "text/plain": [
       "  0%|          | 0/97 [00:00<?, ?it/s]"
      ]
     },
     "metadata": {},
     "output_type": "display_data"
    },
    {
     "data": {
      "application/vnd.jupyter.widget-view+json": {
       "model_id": "233c1799f31341698ecd15ed583e4e2e",
       "version_major": 2,
       "version_minor": 0
      },
      "text/plain": [
       "  0%|          | 0/34 [00:00<?, ?it/s]"
      ]
     },
     "metadata": {},
     "output_type": "display_data"
    },
    {
     "data": {
      "application/vnd.jupyter.widget-view+json": {
       "model_id": "c9210d9af96540f395f8b74fdbb75f8d",
       "version_major": 2,
       "version_minor": 0
      },
      "text/plain": [
       "  0%|          | 0/98 [00:00<?, ?it/s]"
      ]
     },
     "metadata": {},
     "output_type": "display_data"
    },
    {
     "data": {
      "application/vnd.jupyter.widget-view+json": {
       "model_id": "bacde0f24b154edd81021b7a2aa0d37a",
       "version_major": 2,
       "version_minor": 0
      },
      "text/plain": [
       "  0%|          | 0/88 [00:00<?, ?it/s]"
      ]
     },
     "metadata": {},
     "output_type": "display_data"
    },
    {
     "data": {
      "application/vnd.jupyter.widget-view+json": {
       "model_id": "cc76339e802542ab9844e047efd9a4bf",
       "version_major": 2,
       "version_minor": 0
      },
      "text/plain": [
       "  0%|          | 0/58 [00:00<?, ?it/s]"
      ]
     },
     "metadata": {},
     "output_type": "display_data"
    },
    {
     "data": {
      "application/vnd.jupyter.widget-view+json": {
       "model_id": "ddee00273b764c89b0d870b5d9fb0886",
       "version_major": 2,
       "version_minor": 0
      },
      "text/plain": [
       "  0%|          | 0/9 [00:00<?, ?it/s]"
      ]
     },
     "metadata": {},
     "output_type": "display_data"
    }
   ],
   "source": [
    "\n",
    "results = {}\n",
    "for u_id in tqdm(df_sessions[\"ID\"].unique()):\n",
    "    informative_videos = []\n",
    "    info_and_passive = []\n",
    "    non_info_and_passive = []\n",
    "    info_and_active = []\n",
    "    non_info_and_active = []\n",
    "\n",
    "\n",
    "    temp_df = df_sessions[df_sessions[\"ID\"]==u_id]\n",
    "    \n",
    "    for i in tqdm(list(temp_df[\"session\"].unique())):\n",
    "        session_df = temp_df[temp_df[\"session\"]==i]\n",
    "        session_length = len(session_df)\n",
    "        \n",
    "        \n",
    "        if session_length >= 10:\n",
    "        \n",
    "            cut = int(session_length/2)\n",
    "\n",
    "\n",
    "            df_before = session_df.iloc[:cut,:]\n",
    "            df_after = session_df.iloc[cut:,:]\n",
    "\n",
    "            frac_info = Counter(df_after[\"class\"])[0]/len(df_after) \n",
    "            frac_info_passive = len(df_before[(df_before[\"class\"]==0) & (df_before[\"passive_endorsement\"]==1)])/len(df_before)\n",
    "            frac_info_active = len(df_before[(df_before[\"class\"]==0) & (df_before[\"active_engament\"]>=1)])/len(df_before)\n",
    "\n",
    "\n",
    "\n",
    "            informative_videos.append(frac_info)\n",
    "            info_and_passive.append(frac_info_passive)\n",
    "            info_and_active.append(frac_info_active)\n",
    "            non_info_and_passive.append(frac_other_passive)\n",
    "            non_info_and_active.append(frac_other_active)\n",
    "\n",
    "    agg_df = pd.DataFrame({\"info\":informative_videos,\n",
    "             \"info_passive\":info_and_passive,\n",
    "             \"other_passive\":non_info_and_passive,\n",
    "             \"info_active\":info_and_active,\n",
    "             \"other_active\":non_info_and_active}).round(2)\n",
    "    #agg_df.plot(x=\"info_passive\",y=\"info\",kind=\"scatter\")\n",
    "\n",
    "    \n",
    "    # passive\n",
    "    x = agg_df[\"info_passive\"]\n",
    "    x = x[:-1]\n",
    "\n",
    "    if sum(x) != 0:\n",
    "        y = agg_df[\"info\"]\n",
    "\n",
    "        y = y[1:]\n",
    "\n",
    "        result = scipy.stats.linregress(x, y)\n",
    "\n",
    "        p = result.pvalue\n",
    "        r = result.rvalue\n",
    "\n",
    "        results[(u_id,\"passive\")] = (p,r)\n",
    "    else:\n",
    "        results[(u_id,\"passive\")] = (None,None)\n",
    "\n",
    "    \n",
    "    # active\n",
    "    x = agg_df[\"info_active\"]\n",
    "    x = x[:-1]\n",
    "\n",
    "    if sum(x) != 0:\n",
    "        y = agg_df[\"info\"]\n",
    "        y = y[1:]\n",
    "        result = scipy.stats.linregress(x, y)\n",
    "\n",
    "        p = result.pvalue\n",
    "        r = result.rvalue\n",
    "        results[(u_id,\"active\")] = (p,r)\n",
    "        \n",
    "        try:\n",
    "            # comined\n",
    "            x = np.array(agg_df[[\"info_passive\",\"info_active\"]])\n",
    "            y = agg_df[\"info\"]\n",
    "            x = x[:-1]\n",
    "            y = y[1:]\n",
    "            result = scipy.stats.linregress(x, y)\n",
    "\n",
    "            p = result.pvalue\n",
    "            r = result.rvalue\n",
    "            results[(u_id,\"combined\")] = (p,r)\n",
    "        except:\n",
    "            results[(u_id,\"combined\")] = (None,None)\n",
    "\n",
    "    else:\n",
    "        results[(u_id,\"active\")] = (None,None)\n",
    "        results[(u_id,\"combined\")] = (None,None)\n"
   ]
  },
  {
   "cell_type": "code",
   "execution_count": 34,
   "id": "c68189d0",
   "metadata": {
    "ExecuteTime": {
     "end_time": "2023-10-10T11:58:07.626537Z",
     "start_time": "2023-10-10T11:58:07.610042Z"
    }
   },
   "outputs": [
    {
     "data": {
      "text/html": [
       "<div>\n",
       "<style scoped>\n",
       "    .dataframe tbody tr th:only-of-type {\n",
       "        vertical-align: middle;\n",
       "    }\n",
       "\n",
       "    .dataframe tbody tr th {\n",
       "        vertical-align: top;\n",
       "    }\n",
       "\n",
       "    .dataframe thead th {\n",
       "        text-align: right;\n",
       "    }\n",
       "</style>\n",
       "<table border=\"1\" class=\"dataframe\">\n",
       "  <thead>\n",
       "    <tr style=\"text-align: right;\">\n",
       "      <th></th>\n",
       "      <th>0</th>\n",
       "      <th>1</th>\n",
       "    </tr>\n",
       "  </thead>\n",
       "  <tbody>\n",
       "    <tr>\n",
       "      <th>0</th>\n",
       "      <td>0.670841</td>\n",
       "      <td>0.060967</td>\n",
       "    </tr>\n",
       "    <tr>\n",
       "      <th>1</th>\n",
       "      <td>0.247823</td>\n",
       "      <td>0.1648</td>\n",
       "    </tr>\n",
       "    <tr>\n",
       "      <th>2</th>\n",
       "      <td>None</td>\n",
       "      <td>None</td>\n",
       "    </tr>\n",
       "    <tr>\n",
       "      <th>3</th>\n",
       "      <td>1.0</td>\n",
       "      <td>0.0</td>\n",
       "    </tr>\n",
       "    <tr>\n",
       "      <th>4</th>\n",
       "      <td>None</td>\n",
       "      <td>None</td>\n",
       "    </tr>\n",
       "    <tr>\n",
       "      <th>5</th>\n",
       "      <td>None</td>\n",
       "      <td>None</td>\n",
       "    </tr>\n",
       "    <tr>\n",
       "      <th>6</th>\n",
       "      <td>0.715298</td>\n",
       "      <td>-0.050793</td>\n",
       "    </tr>\n",
       "    <tr>\n",
       "      <th>7</th>\n",
       "      <td>None</td>\n",
       "      <td>None</td>\n",
       "    </tr>\n",
       "    <tr>\n",
       "      <th>8</th>\n",
       "      <td>None</td>\n",
       "      <td>None</td>\n",
       "    </tr>\n",
       "    <tr>\n",
       "      <th>9</th>\n",
       "      <td>0.625604</td>\n",
       "      <td>-0.255133</td>\n",
       "    </tr>\n",
       "    <tr>\n",
       "      <th>10</th>\n",
       "      <td>0.164621</td>\n",
       "      <td>0.647343</td>\n",
       "    </tr>\n",
       "    <tr>\n",
       "      <th>11</th>\n",
       "      <td>None</td>\n",
       "      <td>None</td>\n",
       "    </tr>\n",
       "    <tr>\n",
       "      <th>12</th>\n",
       "      <td>0.842773</td>\n",
       "      <td>-0.041792</td>\n",
       "    </tr>\n",
       "    <tr>\n",
       "      <th>13</th>\n",
       "      <td>0.799155</td>\n",
       "      <td>0.053595</td>\n",
       "    </tr>\n",
       "    <tr>\n",
       "      <th>14</th>\n",
       "      <td>None</td>\n",
       "      <td>None</td>\n",
       "    </tr>\n",
       "    <tr>\n",
       "      <th>15</th>\n",
       "      <td>0.682728</td>\n",
       "      <td>0.094799</td>\n",
       "    </tr>\n",
       "    <tr>\n",
       "      <th>16</th>\n",
       "      <td>0.455334</td>\n",
       "      <td>0.172234</td>\n",
       "    </tr>\n",
       "    <tr>\n",
       "      <th>17</th>\n",
       "      <td>None</td>\n",
       "      <td>None</td>\n",
       "    </tr>\n",
       "    <tr>\n",
       "      <th>18</th>\n",
       "      <td>1.0</td>\n",
       "      <td>0.0</td>\n",
       "    </tr>\n",
       "    <tr>\n",
       "      <th>19</th>\n",
       "      <td>None</td>\n",
       "      <td>None</td>\n",
       "    </tr>\n",
       "    <tr>\n",
       "      <th>20</th>\n",
       "      <td>None</td>\n",
       "      <td>None</td>\n",
       "    </tr>\n",
       "    <tr>\n",
       "      <th>21</th>\n",
       "      <td>None</td>\n",
       "      <td>None</td>\n",
       "    </tr>\n",
       "    <tr>\n",
       "      <th>22</th>\n",
       "      <td>None</td>\n",
       "      <td>None</td>\n",
       "    </tr>\n",
       "    <tr>\n",
       "      <th>23</th>\n",
       "      <td>None</td>\n",
       "      <td>None</td>\n",
       "    </tr>\n",
       "    <tr>\n",
       "      <th>24</th>\n",
       "      <td>NaN</td>\n",
       "      <td>0.0</td>\n",
       "    </tr>\n",
       "    <tr>\n",
       "      <th>25</th>\n",
       "      <td>None</td>\n",
       "      <td>None</td>\n",
       "    </tr>\n",
       "    <tr>\n",
       "      <th>26</th>\n",
       "      <td>None</td>\n",
       "      <td>None</td>\n",
       "    </tr>\n",
       "    <tr>\n",
       "      <th>27</th>\n",
       "      <td>0.527533</td>\n",
       "      <td>0.32659</td>\n",
       "    </tr>\n",
       "    <tr>\n",
       "      <th>28</th>\n",
       "      <td>0.791677</td>\n",
       "      <td>-0.139792</td>\n",
       "    </tr>\n",
       "    <tr>\n",
       "      <th>29</th>\n",
       "      <td>None</td>\n",
       "      <td>None</td>\n",
       "    </tr>\n",
       "    <tr>\n",
       "      <th>30</th>\n",
       "      <td>0.802707</td>\n",
       "      <td>0.038768</td>\n",
       "    </tr>\n",
       "    <tr>\n",
       "      <th>31</th>\n",
       "      <td>None</td>\n",
       "      <td>None</td>\n",
       "    </tr>\n",
       "    <tr>\n",
       "      <th>32</th>\n",
       "      <td>None</td>\n",
       "      <td>None</td>\n",
       "    </tr>\n",
       "    <tr>\n",
       "      <th>33</th>\n",
       "      <td>0.748603</td>\n",
       "      <td>-0.050957</td>\n",
       "    </tr>\n",
       "    <tr>\n",
       "      <th>34</th>\n",
       "      <td>0.572807</td>\n",
       "      <td>0.089542</td>\n",
       "    </tr>\n",
       "    <tr>\n",
       "      <th>35</th>\n",
       "      <td>None</td>\n",
       "      <td>None</td>\n",
       "    </tr>\n",
       "    <tr>\n",
       "      <th>36</th>\n",
       "      <td>0.845077</td>\n",
       "      <td>0.046675</td>\n",
       "    </tr>\n",
       "    <tr>\n",
       "      <th>37</th>\n",
       "      <td>0.384286</td>\n",
       "      <td>-0.205696</td>\n",
       "    </tr>\n",
       "    <tr>\n",
       "      <th>38</th>\n",
       "      <td>None</td>\n",
       "      <td>None</td>\n",
       "    </tr>\n",
       "    <tr>\n",
       "      <th>39</th>\n",
       "      <td>0.12854</td>\n",
       "      <td>-0.545731</td>\n",
       "    </tr>\n",
       "    <tr>\n",
       "      <th>40</th>\n",
       "      <td>0.066156</td>\n",
       "      <td>-0.634986</td>\n",
       "    </tr>\n",
       "    <tr>\n",
       "      <th>41</th>\n",
       "      <td>None</td>\n",
       "      <td>None</td>\n",
       "    </tr>\n",
       "    <tr>\n",
       "      <th>42</th>\n",
       "      <td>0.360794</td>\n",
       "      <td>0.210043</td>\n",
       "    </tr>\n",
       "    <tr>\n",
       "      <th>43</th>\n",
       "      <td>0.038181</td>\n",
       "      <td>0.455085</td>\n",
       "    </tr>\n",
       "    <tr>\n",
       "      <th>44</th>\n",
       "      <td>None</td>\n",
       "      <td>None</td>\n",
       "    </tr>\n",
       "    <tr>\n",
       "      <th>45</th>\n",
       "      <td>0.427097</td>\n",
       "      <td>-0.267155</td>\n",
       "    </tr>\n",
       "    <tr>\n",
       "      <th>46</th>\n",
       "      <td>None</td>\n",
       "      <td>None</td>\n",
       "    </tr>\n",
       "    <tr>\n",
       "      <th>47</th>\n",
       "      <td>None</td>\n",
       "      <td>None</td>\n",
       "    </tr>\n",
       "    <tr>\n",
       "      <th>48</th>\n",
       "      <td>0.885898</td>\n",
       "      <td>-0.028408</td>\n",
       "    </tr>\n",
       "    <tr>\n",
       "      <th>49</th>\n",
       "      <td>0.498697</td>\n",
       "      <td>0.133362</td>\n",
       "    </tr>\n",
       "    <tr>\n",
       "      <th>50</th>\n",
       "      <td>None</td>\n",
       "      <td>None</td>\n",
       "    </tr>\n",
       "    <tr>\n",
       "      <th>51</th>\n",
       "      <td>0.943601</td>\n",
       "      <td>0.088475</td>\n",
       "    </tr>\n",
       "    <tr>\n",
       "      <th>52</th>\n",
       "      <td>None</td>\n",
       "      <td>None</td>\n",
       "    </tr>\n",
       "    <tr>\n",
       "      <th>53</th>\n",
       "      <td>None</td>\n",
       "      <td>None</td>\n",
       "    </tr>\n",
       "  </tbody>\n",
       "</table>\n",
       "</div>"
      ],
      "text/plain": [
       "           0         1\n",
       "0   0.670841  0.060967\n",
       "1   0.247823    0.1648\n",
       "2       None      None\n",
       "3        1.0       0.0\n",
       "4       None      None\n",
       "5       None      None\n",
       "6   0.715298 -0.050793\n",
       "7       None      None\n",
       "8       None      None\n",
       "9   0.625604 -0.255133\n",
       "10  0.164621  0.647343\n",
       "11      None      None\n",
       "12  0.842773 -0.041792\n",
       "13  0.799155  0.053595\n",
       "14      None      None\n",
       "15  0.682728  0.094799\n",
       "16  0.455334  0.172234\n",
       "17      None      None\n",
       "18       1.0       0.0\n",
       "19      None      None\n",
       "20      None      None\n",
       "21      None      None\n",
       "22      None      None\n",
       "23      None      None\n",
       "24       NaN       0.0\n",
       "25      None      None\n",
       "26      None      None\n",
       "27  0.527533   0.32659\n",
       "28  0.791677 -0.139792\n",
       "29      None      None\n",
       "30  0.802707  0.038768\n",
       "31      None      None\n",
       "32      None      None\n",
       "33  0.748603 -0.050957\n",
       "34  0.572807  0.089542\n",
       "35      None      None\n",
       "36  0.845077  0.046675\n",
       "37  0.384286 -0.205696\n",
       "38      None      None\n",
       "39   0.12854 -0.545731\n",
       "40  0.066156 -0.634986\n",
       "41      None      None\n",
       "42  0.360794  0.210043\n",
       "43  0.038181  0.455085\n",
       "44      None      None\n",
       "45  0.427097 -0.267155\n",
       "46      None      None\n",
       "47      None      None\n",
       "48  0.885898 -0.028408\n",
       "49  0.498697  0.133362\n",
       "50      None      None\n",
       "51  0.943601  0.088475\n",
       "52      None      None\n",
       "53      None      None"
      ]
     },
     "execution_count": 34,
     "metadata": {},
     "output_type": "execute_result"
    }
   ],
   "source": [
    "pd.DataFrame(results).transpose().reset_index(drop=True) # versetzt (next session)"
   ]
  }
 ],
 "metadata": {
  "kernelspec": {
   "display_name": "Python [conda env:env_multimodal]",
   "language": "python",
   "name": "conda-env-env_multimodal-py"
  },
  "language_info": {
   "codemirror_mode": {
    "name": "ipython",
    "version": 3
   },
   "file_extension": ".py",
   "mimetype": "text/x-python",
   "name": "python",
   "nbconvert_exporter": "python",
   "pygments_lexer": "ipython3",
   "version": "3.10.12"
  },
  "toc": {
   "base_numbering": 1,
   "nav_menu": {},
   "number_sections": true,
   "sideBar": true,
   "skip_h1_title": false,
   "title_cell": "Table of Contents",
   "title_sidebar": "Contents",
   "toc_cell": false,
   "toc_position": {},
   "toc_section_display": true,
   "toc_window_display": false
  }
 },
 "nbformat": 4,
 "nbformat_minor": 5
}
