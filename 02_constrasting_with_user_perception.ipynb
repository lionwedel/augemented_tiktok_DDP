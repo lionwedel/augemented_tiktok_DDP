{
 "cells": [
  {
   "cell_type": "code",
   "execution_count": 1,
   "id": "9dfd6f7a",
   "metadata": {
    "ExecuteTime": {
     "end_time": "2024-03-11T13:26:03.713754Z",
     "start_time": "2024-03-11T13:26:02.833222Z"
    }
   },
   "outputs": [],
   "source": [
    "import pandas as pd\n",
    "import pickle as pkl\n",
    "from tqdm.auto import tqdm\n",
    "from collections import Counter\n",
    "\n",
    "import warnings\n",
    "warnings.filterwarnings('ignore')"
   ]
  },
  {
   "cell_type": "code",
   "execution_count": 3,
   "id": "8f9ff1fb",
   "metadata": {
    "ExecuteTime": {
     "end_time": "2024-03-11T13:26:03.722596Z",
     "start_time": "2024-03-11T13:26:03.715104Z"
    }
   },
   "outputs": [],
   "source": [
    "df_survey = pd.read_csv(\"data/survey_answers.csv\")\n",
    "with open(\"data/survey_Q_dict.pkl\", \"rb\") as f:\n",
    "    q_dict = pkl.load(f)"
   ]
  },
  {
   "cell_type": "code",
   "execution_count": 4,
   "id": "b1a0d4db",
   "metadata": {
    "ExecuteTime": {
     "end_time": "2024-03-11T13:26:04.355709Z",
     "start_time": "2024-03-11T13:26:04.342890Z"
    }
   },
   "outputs": [
    {
     "data": {
      "text/plain": [
       "{'Q23': 'If you would like to participate in the survey, click on “Yes” below. With this you declare:\\n\\n- I am 16 years or older.\\n\\n- I have read and understood the information.- I understand that through the integration of the service provider Qualtrics LLC, it cannot be ruled out that my data is stored temporarily on non-EU servers.\\n\\n- I agree to participate in the study and to provide the data obtained with it.\\n\\n- I reserve the right to withdraw this consent without giving any reason. (until the full anonymization of the data)\\n\\n- I reserve the right to stop the study at any time I wish.',\n",
       " 'Q7': 'How old are you?',\n",
       " 'Q8': 'What is your level of education?',\n",
       " 'Q9': 'What is your gender?',\n",
       " 'Q10': 'What type of content do you receive on TikTok?',\n",
       " 'Q28_1': 'Please express your degree of agreement or disagreement with the following statements: - TikTok is important for me to stay up to date with current affairs (politics, economics etc.).',\n",
       " 'Q28_2': 'Please express your degree of agreement or disagreement with the following statements: - TikTok is important for me to stay up to date with general affairs (celebrities, sports, etc.).',\n",
       " 'Q28_3': 'Please express your degree of agreement or disagreement with the following statements: - TikTok is important for me to stay up to date about my friends & family.',\n",
       " 'Q28_4': 'Please express your degree of agreement or disagreement with the following statements: - TikTok is important for me to kill time.',\n",
       " 'Q28_5': 'Please express your degree of agreement or disagreement with the following statements: - TikTok is important for me to learn new things (DIY, cooking etc.).',\n",
       " 'Q28_6': 'Please express your degree of agreement or disagreement with the following statements: - TikTok is showing me primarily informative content.',\n",
       " 'Q28_7': 'Please express your degree of agreement or disagreement with the following statements: - TikTok is showing my primarily non-informative content.',\n",
       " 'Q30': 'Did you successfully request your data?',\n",
       " 'Random ID': 'Random ID'}"
      ]
     },
     "execution_count": 4,
     "metadata": {},
     "output_type": "execute_result"
    }
   ],
   "source": [
    "q_dict"
   ]
  },
  {
   "cell_type": "code",
   "execution_count": 5,
   "id": "423af025",
   "metadata": {
    "ExecuteTime": {
     "end_time": "2024-03-11T13:26:06.296976Z",
     "start_time": "2024-03-11T13:26:06.278062Z"
    }
   },
   "outputs": [
    {
     "data": {
      "text/html": [
       "<div>\n",
       "<style scoped>\n",
       "    .dataframe tbody tr th:only-of-type {\n",
       "        vertical-align: middle;\n",
       "    }\n",
       "\n",
       "    .dataframe tbody tr th {\n",
       "        vertical-align: top;\n",
       "    }\n",
       "\n",
       "    .dataframe thead th {\n",
       "        text-align: right;\n",
       "    }\n",
       "</style>\n",
       "<table border=\"1\" class=\"dataframe\">\n",
       "  <thead>\n",
       "    <tr style=\"text-align: right;\">\n",
       "      <th></th>\n",
       "      <th>Q23</th>\n",
       "      <th>Q7</th>\n",
       "      <th>Q8</th>\n",
       "      <th>Q9</th>\n",
       "      <th>Q10</th>\n",
       "      <th>Q28_1</th>\n",
       "      <th>Q28_2</th>\n",
       "      <th>Q28_3</th>\n",
       "      <th>Q28_4</th>\n",
       "      <th>Q28_5</th>\n",
       "      <th>Q28_6</th>\n",
       "      <th>Q28_7</th>\n",
       "      <th>Q30</th>\n",
       "      <th>Random ID</th>\n",
       "    </tr>\n",
       "  </thead>\n",
       "  <tbody>\n",
       "    <tr>\n",
       "      <th>0</th>\n",
       "      <td>Yes, I participate</td>\n",
       "      <td>27 to 34</td>\n",
       "      <td>Master</td>\n",
       "      <td>Male</td>\n",
       "      <td>Dance and Music,Sport,Entertaiment,Comedy and ...</td>\n",
       "      <td>Somewhat agree</td>\n",
       "      <td>Somewhat agree</td>\n",
       "      <td>Strongly disagree</td>\n",
       "      <td>Somewhat agree</td>\n",
       "      <td>Somewhat agree</td>\n",
       "      <td>Neither agree nor disagree</td>\n",
       "      <td>Somewhat agree</td>\n",
       "      <td>Yes</td>\n",
       "      <td>6266</td>\n",
       "    </tr>\n",
       "    <tr>\n",
       "      <th>1</th>\n",
       "      <td>Yes, I participate</td>\n",
       "      <td>16 to 26</td>\n",
       "      <td>Master</td>\n",
       "      <td>Female</td>\n",
       "      <td>Dance and Music,Sport,Entertaiment,Comedy and ...</td>\n",
       "      <td>Somewhat disagree</td>\n",
       "      <td>Somewhat agree</td>\n",
       "      <td>Strongly disagree</td>\n",
       "      <td>Strongly agree</td>\n",
       "      <td>Somewhat agree</td>\n",
       "      <td>Somewhat disagree</td>\n",
       "      <td>Somewhat agree</td>\n",
       "      <td>Yes</td>\n",
       "      <td>6592</td>\n",
       "    </tr>\n",
       "  </tbody>\n",
       "</table>\n",
       "</div>"
      ],
      "text/plain": [
       "                  Q23        Q7      Q8      Q9  \\\n",
       "0  Yes, I participate  27 to 34  Master    Male   \n",
       "1  Yes, I participate  16 to 26  Master  Female   \n",
       "\n",
       "                                                 Q10              Q28_1  \\\n",
       "0  Dance and Music,Sport,Entertaiment,Comedy and ...     Somewhat agree   \n",
       "1  Dance and Music,Sport,Entertaiment,Comedy and ...  Somewhat disagree   \n",
       "\n",
       "            Q28_2              Q28_3           Q28_4           Q28_5  \\\n",
       "0  Somewhat agree  Strongly disagree  Somewhat agree  Somewhat agree   \n",
       "1  Somewhat agree  Strongly disagree  Strongly agree  Somewhat agree   \n",
       "\n",
       "                        Q28_6           Q28_7  Q30  Random ID  \n",
       "0  Neither agree nor disagree  Somewhat agree  Yes       6266  \n",
       "1           Somewhat disagree  Somewhat agree  Yes       6592  "
      ]
     },
     "execution_count": 5,
     "metadata": {},
     "output_type": "execute_result"
    }
   ],
   "source": [
    "df_survey.head(2)"
   ]
  },
  {
   "cell_type": "markdown",
   "id": "1cb2c9a8",
   "metadata": {},
   "source": [
    "- 'Q10': 'What type of content do you receive on TikTok?'\n",
    "- Q28_1: TikTok is important for me to stay up to date with current affairs (politics, economics etc.).',\n",
    "- Q28_2: TikTok is important for me to stay up to date with general affairs (celebrities, sports, etc.).',\n",
    "- Q28_5: TikTok is important for me to learn new things (DIY, cooking etc.).',\n",
    "- Q28_7: TikTok is showing me primarily informative content.',"
   ]
  },
  {
   "cell_type": "code",
   "execution_count": 6,
   "id": "9426564d",
   "metadata": {
    "ExecuteTime": {
     "end_time": "2024-03-11T13:26:08.651441Z",
     "start_time": "2024-03-11T13:26:08.628342Z"
    }
   },
   "outputs": [],
   "source": [
    "df_info_qs = df_survey.loc[:,[\"Random ID\",\"Q10\",\"Q28_1\",\"Q28_2\",\"Q28_5\",\"Q28_7\"]]"
   ]
  },
  {
   "cell_type": "code",
   "execution_count": 7,
   "id": "5f55a89e",
   "metadata": {
    "ExecuteTime": {
     "end_time": "2024-03-11T13:26:09.037287Z",
     "start_time": "2024-03-11T13:26:09.024456Z"
    }
   },
   "outputs": [
    {
     "data": {
      "text/html": [
       "<div>\n",
       "<style scoped>\n",
       "    .dataframe tbody tr th:only-of-type {\n",
       "        vertical-align: middle;\n",
       "    }\n",
       "\n",
       "    .dataframe tbody tr th {\n",
       "        vertical-align: top;\n",
       "    }\n",
       "\n",
       "    .dataframe thead th {\n",
       "        text-align: right;\n",
       "    }\n",
       "</style>\n",
       "<table border=\"1\" class=\"dataframe\">\n",
       "  <thead>\n",
       "    <tr style=\"text-align: right;\">\n",
       "      <th></th>\n",
       "      <th>Random ID</th>\n",
       "      <th>Q10</th>\n",
       "      <th>Q28_1</th>\n",
       "      <th>Q28_2</th>\n",
       "      <th>Q28_5</th>\n",
       "      <th>Q28_7</th>\n",
       "    </tr>\n",
       "  </thead>\n",
       "  <tbody>\n",
       "    <tr>\n",
       "      <th>0</th>\n",
       "      <td>6266</td>\n",
       "      <td>Dance and Music,Sport,Entertaiment,Comedy and ...</td>\n",
       "      <td>Somewhat agree</td>\n",
       "      <td>Somewhat agree</td>\n",
       "      <td>Somewhat agree</td>\n",
       "      <td>Somewhat agree</td>\n",
       "    </tr>\n",
       "    <tr>\n",
       "      <th>1</th>\n",
       "      <td>6592</td>\n",
       "      <td>Dance and Music,Sport,Entertaiment,Comedy and ...</td>\n",
       "      <td>Somewhat disagree</td>\n",
       "      <td>Somewhat agree</td>\n",
       "      <td>Somewhat agree</td>\n",
       "      <td>Somewhat agree</td>\n",
       "    </tr>\n",
       "    <tr>\n",
       "      <th>2</th>\n",
       "      <td>6871</td>\n",
       "      <td>Dance and Music,Entertaiment,Comedy and Drama,...</td>\n",
       "      <td>Somewhat disagree</td>\n",
       "      <td>Somewhat agree</td>\n",
       "      <td>Somewhat agree</td>\n",
       "      <td>Neither agree nor disagree</td>\n",
       "    </tr>\n",
       "  </tbody>\n",
       "</table>\n",
       "</div>"
      ],
      "text/plain": [
       "   Random ID                                                Q10  \\\n",
       "0       6266  Dance and Music,Sport,Entertaiment,Comedy and ...   \n",
       "1       6592  Dance and Music,Sport,Entertaiment,Comedy and ...   \n",
       "2       6871  Dance and Music,Entertaiment,Comedy and Drama,...   \n",
       "\n",
       "               Q28_1           Q28_2           Q28_5  \\\n",
       "0     Somewhat agree  Somewhat agree  Somewhat agree   \n",
       "1  Somewhat disagree  Somewhat agree  Somewhat agree   \n",
       "2  Somewhat disagree  Somewhat agree  Somewhat agree   \n",
       "\n",
       "                        Q28_7  \n",
       "0              Somewhat agree  \n",
       "1              Somewhat agree  \n",
       "2  Neither agree nor disagree  "
      ]
     },
     "execution_count": 7,
     "metadata": {},
     "output_type": "execute_result"
    }
   ],
   "source": [
    "df_info_qs.head(3)"
   ]
  },
  {
   "cell_type": "code",
   "execution_count": 8,
   "id": "f89f7a58",
   "metadata": {
    "ExecuteTime": {
     "end_time": "2024-03-11T13:26:10.191047Z",
     "start_time": "2024-03-11T13:26:10.164621Z"
    }
   },
   "outputs": [],
   "source": [
    "df_info_qs[\"info\"] = df_info_qs['Q10'].str.get_dummies(sep=',')[\"Information\"]\n"
   ]
  },
  {
   "cell_type": "code",
   "execution_count": 9,
   "id": "9c1dde2b",
   "metadata": {
    "ExecuteTime": {
     "end_time": "2024-03-11T13:26:10.722749Z",
     "start_time": "2024-03-11T13:26:10.702108Z"
    }
   },
   "outputs": [],
   "source": [
    "df_info_qs = df_info_qs.drop(columns=\"Q10\")"
   ]
  },
  {
   "cell_type": "code",
   "execution_count": 10,
   "id": "41ff7b2b",
   "metadata": {
    "ExecuteTime": {
     "end_time": "2024-03-11T13:26:19.170957Z",
     "start_time": "2024-03-11T13:26:19.164392Z"
    }
   },
   "outputs": [],
   "source": [
    "dict_to_num = {\"Strongly disagree\":1,\n",
    "               \"Somewhat disagree\":2,\n",
    "               \"Neither agree nor disagree\":3,\n",
    "               \"Somewhat agree\":4,\n",
    "               \"Strongly agree\":5\n",
    "\n",
    "}"
   ]
  },
  {
   "cell_type": "code",
   "execution_count": 11,
   "id": "5e8151b3",
   "metadata": {
    "ExecuteTime": {
     "end_time": "2024-03-11T13:26:19.771749Z",
     "start_time": "2024-03-11T13:26:19.761457Z"
    }
   },
   "outputs": [],
   "source": [
    "df_info_qs[\"Q28_1\"] = df_info_qs[\"Q28_1\"].map(dict_to_num)\n",
    "df_info_qs[\"Q28_2\"] = df_info_qs[\"Q28_2\"].map(dict_to_num)\n",
    "df_info_qs[\"Q28_5\"] = df_info_qs[\"Q28_5\"].map(dict_to_num)\n",
    "df_info_qs[\"Q28_7\"] = df_info_qs[\"Q28_7\"].map(dict_to_num)"
   ]
  },
  {
   "cell_type": "code",
   "execution_count": null,
   "id": "e677cb79",
   "metadata": {},
   "outputs": [],
   "source": []
  },
  {
   "cell_type": "code",
   "execution_count": 12,
   "id": "bd8aebe3",
   "metadata": {
    "ExecuteTime": {
     "end_time": "2024-03-11T13:26:22.044278Z",
     "start_time": "2024-03-11T13:26:21.997632Z"
    }
   },
   "outputs": [
    {
     "data": {
      "text/html": [
       "<div>\n",
       "<style scoped>\n",
       "    .dataframe tbody tr th:only-of-type {\n",
       "        vertical-align: middle;\n",
       "    }\n",
       "\n",
       "    .dataframe tbody tr th {\n",
       "        vertical-align: top;\n",
       "    }\n",
       "\n",
       "    .dataframe thead th {\n",
       "        text-align: right;\n",
       "    }\n",
       "</style>\n",
       "<table border=\"1\" class=\"dataframe\">\n",
       "  <thead>\n",
       "    <tr style=\"text-align: right;\">\n",
       "      <th></th>\n",
       "      <th>Random ID</th>\n",
       "      <th>Q28_1</th>\n",
       "      <th>Q28_2</th>\n",
       "      <th>Q28_5</th>\n",
       "      <th>Q28_7</th>\n",
       "      <th>info</th>\n",
       "    </tr>\n",
       "  </thead>\n",
       "  <tbody>\n",
       "    <tr>\n",
       "      <th>count</th>\n",
       "      <td>18.000</td>\n",
       "      <td>18.000</td>\n",
       "      <td>18.000</td>\n",
       "      <td>18.000</td>\n",
       "      <td>18.000</td>\n",
       "      <td>18.000</td>\n",
       "    </tr>\n",
       "    <tr>\n",
       "      <th>mean</th>\n",
       "      <td>5708.722</td>\n",
       "      <td>2.444</td>\n",
       "      <td>3.167</td>\n",
       "      <td>3.611</td>\n",
       "      <td>3.444</td>\n",
       "      <td>0.667</td>\n",
       "    </tr>\n",
       "    <tr>\n",
       "      <th>std</th>\n",
       "      <td>2510.060</td>\n",
       "      <td>1.338</td>\n",
       "      <td>1.383</td>\n",
       "      <td>1.092</td>\n",
       "      <td>1.149</td>\n",
       "      <td>0.485</td>\n",
       "    </tr>\n",
       "    <tr>\n",
       "      <th>min</th>\n",
       "      <td>1065.000</td>\n",
       "      <td>1.000</td>\n",
       "      <td>1.000</td>\n",
       "      <td>1.000</td>\n",
       "      <td>1.000</td>\n",
       "      <td>0.000</td>\n",
       "    </tr>\n",
       "    <tr>\n",
       "      <th>25%</th>\n",
       "      <td>4405.750</td>\n",
       "      <td>1.250</td>\n",
       "      <td>2.250</td>\n",
       "      <td>3.000</td>\n",
       "      <td>3.000</td>\n",
       "      <td>0.000</td>\n",
       "    </tr>\n",
       "    <tr>\n",
       "      <th>50%</th>\n",
       "      <td>6219.500</td>\n",
       "      <td>2.000</td>\n",
       "      <td>4.000</td>\n",
       "      <td>4.000</td>\n",
       "      <td>4.000</td>\n",
       "      <td>1.000</td>\n",
       "    </tr>\n",
       "    <tr>\n",
       "      <th>75%</th>\n",
       "      <td>7002.250</td>\n",
       "      <td>3.000</td>\n",
       "      <td>4.000</td>\n",
       "      <td>4.000</td>\n",
       "      <td>4.000</td>\n",
       "      <td>1.000</td>\n",
       "    </tr>\n",
       "    <tr>\n",
       "      <th>max</th>\n",
       "      <td>9228.000</td>\n",
       "      <td>5.000</td>\n",
       "      <td>5.000</td>\n",
       "      <td>5.000</td>\n",
       "      <td>5.000</td>\n",
       "      <td>1.000</td>\n",
       "    </tr>\n",
       "  </tbody>\n",
       "</table>\n",
       "</div>"
      ],
      "text/plain": [
       "       Random ID   Q28_1   Q28_2   Q28_5   Q28_7    info\n",
       "count     18.000  18.000  18.000  18.000  18.000  18.000\n",
       "mean    5708.722   2.444   3.167   3.611   3.444   0.667\n",
       "std     2510.060   1.338   1.383   1.092   1.149   0.485\n",
       "min     1065.000   1.000   1.000   1.000   1.000   0.000\n",
       "25%     4405.750   1.250   2.250   3.000   3.000   0.000\n",
       "50%     6219.500   2.000   4.000   4.000   4.000   1.000\n",
       "75%     7002.250   3.000   4.000   4.000   4.000   1.000\n",
       "max     9228.000   5.000   5.000   5.000   5.000   1.000"
      ]
     },
     "execution_count": 12,
     "metadata": {},
     "output_type": "execute_result"
    }
   ],
   "source": [
    "df_info_qs.describe().round(3)"
   ]
  },
  {
   "cell_type": "code",
   "execution_count": 13,
   "id": "291e93a6",
   "metadata": {
    "ExecuteTime": {
     "end_time": "2024-03-11T13:26:26.431188Z",
     "start_time": "2024-03-11T13:26:26.387522Z"
    }
   },
   "outputs": [
    {
     "data": {
      "text/html": [
       "<div>\n",
       "<style scoped>\n",
       "    .dataframe tbody tr th:only-of-type {\n",
       "        vertical-align: middle;\n",
       "    }\n",
       "\n",
       "    .dataframe tbody tr th {\n",
       "        vertical-align: top;\n",
       "    }\n",
       "\n",
       "    .dataframe thead th {\n",
       "        text-align: right;\n",
       "    }\n",
       "</style>\n",
       "<table border=\"1\" class=\"dataframe\">\n",
       "  <thead>\n",
       "    <tr style=\"text-align: right;\">\n",
       "      <th></th>\n",
       "      <th>Date</th>\n",
       "      <th>Action</th>\n",
       "      <th>Url</th>\n",
       "      <th>OperatingSystem</th>\n",
       "      <th>likes</th>\n",
       "      <th>v_ids</th>\n",
       "      <th>activity_time</th>\n",
       "      <th>ID</th>\n",
       "      <th>session</th>\n",
       "      <th>active_engament</th>\n",
       "      <th>video_length</th>\n",
       "      <th>wt_frac</th>\n",
       "      <th>passive_endorsement</th>\n",
       "      <th>class</th>\n",
       "    </tr>\n",
       "  </thead>\n",
       "  <tbody>\n",
       "    <tr>\n",
       "      <th>0</th>\n",
       "      <td>2023-03-17 11:37:38</td>\n",
       "      <td>watching</td>\n",
       "      <td>https://www.tiktokv.com/share/video/6984429060...</td>\n",
       "      <td>NaN</td>\n",
       "      <td>NaN</td>\n",
       "      <td>6984429060914990342</td>\n",
       "      <td>26.0</td>\n",
       "      <td>6592</td>\n",
       "      <td>1</td>\n",
       "      <td>0</td>\n",
       "      <td>24.0</td>\n",
       "      <td>1.083333</td>\n",
       "      <td>0</td>\n",
       "      <td>0</td>\n",
       "    </tr>\n",
       "    <tr>\n",
       "      <th>1</th>\n",
       "      <td>2023-03-17 11:38:05</td>\n",
       "      <td>watching</td>\n",
       "      <td>https://www.tiktokv.com/share/video/7211168761...</td>\n",
       "      <td>NaN</td>\n",
       "      <td>NaN</td>\n",
       "      <td>7211168761695604014</td>\n",
       "      <td>20.0</td>\n",
       "      <td>6592</td>\n",
       "      <td>1</td>\n",
       "      <td>0</td>\n",
       "      <td>12.0</td>\n",
       "      <td>1.666667</td>\n",
       "      <td>0</td>\n",
       "      <td>0</td>\n",
       "    </tr>\n",
       "    <tr>\n",
       "      <th>2</th>\n",
       "      <td>2023-03-17 11:38:25</td>\n",
       "      <td>watching</td>\n",
       "      <td>https://www.tiktokv.com/share/video/7211204623...</td>\n",
       "      <td>NaN</td>\n",
       "      <td>NaN</td>\n",
       "      <td>7211204623296630022</td>\n",
       "      <td>6.0</td>\n",
       "      <td>6592</td>\n",
       "      <td>1</td>\n",
       "      <td>0</td>\n",
       "      <td>10.0</td>\n",
       "      <td>0.600000</td>\n",
       "      <td>0</td>\n",
       "      <td>0</td>\n",
       "    </tr>\n",
       "    <tr>\n",
       "      <th>3</th>\n",
       "      <td>2023-03-17 11:38:34</td>\n",
       "      <td>watching</td>\n",
       "      <td>https://www.tiktokv.com/share/video/7194066849...</td>\n",
       "      <td>NaN</td>\n",
       "      <td>NaN</td>\n",
       "      <td>7194066849594756354</td>\n",
       "      <td>37.0</td>\n",
       "      <td>6592</td>\n",
       "      <td>1</td>\n",
       "      <td>0</td>\n",
       "      <td>26.0</td>\n",
       "      <td>1.423077</td>\n",
       "      <td>0</td>\n",
       "      <td>1</td>\n",
       "    </tr>\n",
       "    <tr>\n",
       "      <th>4</th>\n",
       "      <td>2023-03-17 11:39:11</td>\n",
       "      <td>watching</td>\n",
       "      <td>https://www.tiktokv.com/share/video/7208232985...</td>\n",
       "      <td>NaN</td>\n",
       "      <td>NaN</td>\n",
       "      <td>7208232985055841542</td>\n",
       "      <td>9.0</td>\n",
       "      <td>6592</td>\n",
       "      <td>1</td>\n",
       "      <td>0</td>\n",
       "      <td>15.0</td>\n",
       "      <td>0.600000</td>\n",
       "      <td>0</td>\n",
       "      <td>0</td>\n",
       "    </tr>\n",
       "  </tbody>\n",
       "</table>\n",
       "</div>"
      ],
      "text/plain": [
       "                  Date    Action  \\\n",
       "0  2023-03-17 11:37:38  watching   \n",
       "1  2023-03-17 11:38:05  watching   \n",
       "2  2023-03-17 11:38:25  watching   \n",
       "3  2023-03-17 11:38:34  watching   \n",
       "4  2023-03-17 11:39:11  watching   \n",
       "\n",
       "                                                 Url  OperatingSystem  likes  \\\n",
       "0  https://www.tiktokv.com/share/video/6984429060...              NaN    NaN   \n",
       "1  https://www.tiktokv.com/share/video/7211168761...              NaN    NaN   \n",
       "2  https://www.tiktokv.com/share/video/7211204623...              NaN    NaN   \n",
       "3  https://www.tiktokv.com/share/video/7194066849...              NaN    NaN   \n",
       "4  https://www.tiktokv.com/share/video/7208232985...              NaN    NaN   \n",
       "\n",
       "                 v_ids  activity_time    ID  session  active_engament  \\\n",
       "0  6984429060914990342           26.0  6592        1                0   \n",
       "1  7211168761695604014           20.0  6592        1                0   \n",
       "2  7211204623296630022            6.0  6592        1                0   \n",
       "3  7194066849594756354           37.0  6592        1                0   \n",
       "4  7208232985055841542            9.0  6592        1                0   \n",
       "\n",
       "   video_length   wt_frac  passive_endorsement  class  \n",
       "0          24.0  1.083333                    0      0  \n",
       "1          12.0  1.666667                    0      0  \n",
       "2          10.0  0.600000                    0      0  \n",
       "3          26.0  1.423077                    0      1  \n",
       "4          15.0  0.600000                    0      0  "
      ]
     },
     "execution_count": 13,
     "metadata": {},
     "output_type": "execute_result"
    }
   ],
   "source": [
    "# load user informtive consumption\n",
    "df_sessions = pd.read_csv(\"data/session_df.csv\")\n",
    "df_sessions.head()"
   ]
  },
  {
   "cell_type": "code",
   "execution_count": 14,
   "id": "0bc6167a",
   "metadata": {
    "ExecuteTime": {
     "end_time": "2024-03-11T13:26:29.024545Z",
     "start_time": "2024-03-11T13:26:28.982862Z"
    }
   },
   "outputs": [
    {
     "data": {
      "application/vnd.jupyter.widget-view+json": {
       "model_id": "87d7964a3ff14cfc9362d4032aa3a29f",
       "version_major": 2,
       "version_minor": 0
      },
      "text/plain": [
       "  0%|          | 0/18 [00:00<?, ?it/s]"
      ]
     },
     "metadata": {},
     "output_type": "display_data"
    }
   ],
   "source": [
    "frac_info_content = []\n",
    "for i in tqdm(list(df_sessions[\"ID\"].unique())):\n",
    "    user_df = df_sessions[df_sessions[\"ID\"]==i]\n",
    "    user_watch_history_length = len(user_df)\n",
    "    frac_info = Counter(user_df[\"class\"])[1]/user_watch_history_length \n",
    "    frac_info_content.append(frac_info)"
   ]
  },
  {
   "cell_type": "code",
   "execution_count": 15,
   "id": "899608b3",
   "metadata": {
    "ExecuteTime": {
     "end_time": "2024-03-11T13:26:29.243837Z",
     "start_time": "2024-03-11T13:26:29.233360Z"
    }
   },
   "outputs": [
    {
     "data": {
      "text/html": [
       "<div>\n",
       "<style scoped>\n",
       "    .dataframe tbody tr th:only-of-type {\n",
       "        vertical-align: middle;\n",
       "    }\n",
       "\n",
       "    .dataframe tbody tr th {\n",
       "        vertical-align: top;\n",
       "    }\n",
       "\n",
       "    .dataframe thead th {\n",
       "        text-align: right;\n",
       "    }\n",
       "</style>\n",
       "<table border=\"1\" class=\"dataframe\">\n",
       "  <thead>\n",
       "    <tr style=\"text-align: right;\">\n",
       "      <th></th>\n",
       "      <th>Random ID</th>\n",
       "      <th>Q28_1</th>\n",
       "      <th>Q28_2</th>\n",
       "      <th>Q28_5</th>\n",
       "      <th>Q28_7</th>\n",
       "      <th>info</th>\n",
       "    </tr>\n",
       "  </thead>\n",
       "  <tbody>\n",
       "    <tr>\n",
       "      <th>0</th>\n",
       "      <td>6266</td>\n",
       "      <td>4</td>\n",
       "      <td>4</td>\n",
       "      <td>4</td>\n",
       "      <td>4</td>\n",
       "      <td>1</td>\n",
       "    </tr>\n",
       "    <tr>\n",
       "      <th>1</th>\n",
       "      <td>6592</td>\n",
       "      <td>2</td>\n",
       "      <td>4</td>\n",
       "      <td>4</td>\n",
       "      <td>4</td>\n",
       "      <td>0</td>\n",
       "    </tr>\n",
       "    <tr>\n",
       "      <th>2</th>\n",
       "      <td>6871</td>\n",
       "      <td>2</td>\n",
       "      <td>4</td>\n",
       "      <td>4</td>\n",
       "      <td>3</td>\n",
       "      <td>1</td>\n",
       "    </tr>\n",
       "    <tr>\n",
       "      <th>3</th>\n",
       "      <td>9228</td>\n",
       "      <td>2</td>\n",
       "      <td>3</td>\n",
       "      <td>4</td>\n",
       "      <td>3</td>\n",
       "      <td>1</td>\n",
       "    </tr>\n",
       "    <tr>\n",
       "      <th>4</th>\n",
       "      <td>2354</td>\n",
       "      <td>3</td>\n",
       "      <td>4</td>\n",
       "      <td>4</td>\n",
       "      <td>5</td>\n",
       "      <td>0</td>\n",
       "    </tr>\n",
       "    <tr>\n",
       "      <th>5</th>\n",
       "      <td>4256</td>\n",
       "      <td>1</td>\n",
       "      <td>1</td>\n",
       "      <td>2</td>\n",
       "      <td>4</td>\n",
       "      <td>0</td>\n",
       "    </tr>\n",
       "    <tr>\n",
       "      <th>6</th>\n",
       "      <td>8613</td>\n",
       "      <td>1</td>\n",
       "      <td>1</td>\n",
       "      <td>4</td>\n",
       "      <td>3</td>\n",
       "      <td>1</td>\n",
       "    </tr>\n",
       "    <tr>\n",
       "      <th>7</th>\n",
       "      <td>4855</td>\n",
       "      <td>1</td>\n",
       "      <td>1</td>\n",
       "      <td>2</td>\n",
       "      <td>5</td>\n",
       "      <td>0</td>\n",
       "    </tr>\n",
       "    <tr>\n",
       "      <th>8</th>\n",
       "      <td>6173</td>\n",
       "      <td>2</td>\n",
       "      <td>4</td>\n",
       "      <td>3</td>\n",
       "      <td>4</td>\n",
       "      <td>0</td>\n",
       "    </tr>\n",
       "    <tr>\n",
       "      <th>9</th>\n",
       "      <td>3000</td>\n",
       "      <td>1</td>\n",
       "      <td>1</td>\n",
       "      <td>1</td>\n",
       "      <td>4</td>\n",
       "      <td>1</td>\n",
       "    </tr>\n",
       "    <tr>\n",
       "      <th>10</th>\n",
       "      <td>7005</td>\n",
       "      <td>2</td>\n",
       "      <td>3</td>\n",
       "      <td>5</td>\n",
       "      <td>4</td>\n",
       "      <td>1</td>\n",
       "    </tr>\n",
       "    <tr>\n",
       "      <th>11</th>\n",
       "      <td>8720</td>\n",
       "      <td>5</td>\n",
       "      <td>2</td>\n",
       "      <td>3</td>\n",
       "      <td>2</td>\n",
       "      <td>1</td>\n",
       "    </tr>\n",
       "    <tr>\n",
       "      <th>12</th>\n",
       "      <td>5319</td>\n",
       "      <td>3</td>\n",
       "      <td>4</td>\n",
       "      <td>4</td>\n",
       "      <td>2</td>\n",
       "      <td>1</td>\n",
       "    </tr>\n",
       "    <tr>\n",
       "      <th>13</th>\n",
       "      <td>6994</td>\n",
       "      <td>1</td>\n",
       "      <td>4</td>\n",
       "      <td>3</td>\n",
       "      <td>5</td>\n",
       "      <td>0</td>\n",
       "    </tr>\n",
       "    <tr>\n",
       "      <th>14</th>\n",
       "      <td>8802</td>\n",
       "      <td>2</td>\n",
       "      <td>4</td>\n",
       "      <td>5</td>\n",
       "      <td>4</td>\n",
       "      <td>1</td>\n",
       "    </tr>\n",
       "    <tr>\n",
       "      <th>15</th>\n",
       "      <td>1435</td>\n",
       "      <td>3</td>\n",
       "      <td>3</td>\n",
       "      <td>4</td>\n",
       "      <td>2</td>\n",
       "      <td>1</td>\n",
       "    </tr>\n",
       "    <tr>\n",
       "      <th>16</th>\n",
       "      <td>1065</td>\n",
       "      <td>4</td>\n",
       "      <td>5</td>\n",
       "      <td>4</td>\n",
       "      <td>3</td>\n",
       "      <td>1</td>\n",
       "    </tr>\n",
       "    <tr>\n",
       "      <th>17</th>\n",
       "      <td>5209</td>\n",
       "      <td>5</td>\n",
       "      <td>5</td>\n",
       "      <td>5</td>\n",
       "      <td>1</td>\n",
       "      <td>1</td>\n",
       "    </tr>\n",
       "  </tbody>\n",
       "</table>\n",
       "</div>"
      ],
      "text/plain": [
       "    Random ID  Q28_1  Q28_2  Q28_5  Q28_7  info\n",
       "0        6266      4      4      4      4     1\n",
       "1        6592      2      4      4      4     0\n",
       "2        6871      2      4      4      3     1\n",
       "3        9228      2      3      4      3     1\n",
       "4        2354      3      4      4      5     0\n",
       "5        4256      1      1      2      4     0\n",
       "6        8613      1      1      4      3     1\n",
       "7        4855      1      1      2      5     0\n",
       "8        6173      2      4      3      4     0\n",
       "9        3000      1      1      1      4     1\n",
       "10       7005      2      3      5      4     1\n",
       "11       8720      5      2      3      2     1\n",
       "12       5319      3      4      4      2     1\n",
       "13       6994      1      4      3      5     0\n",
       "14       8802      2      4      5      4     1\n",
       "15       1435      3      3      4      2     1\n",
       "16       1065      4      5      4      3     1\n",
       "17       5209      5      5      5      1     1"
      ]
     },
     "execution_count": 15,
     "metadata": {},
     "output_type": "execute_result"
    }
   ],
   "source": [
    "df_info_qs"
   ]
  },
  {
   "cell_type": "code",
   "execution_count": 20,
   "id": "37585014",
   "metadata": {
    "ExecuteTime": {
     "end_time": "2024-03-11T13:26:32.208075Z",
     "start_time": "2024-03-11T13:26:32.199804Z"
    }
   },
   "outputs": [
    {
     "data": {
      "text/html": [
       "<div>\n",
       "<style scoped>\n",
       "    .dataframe tbody tr th:only-of-type {\n",
       "        vertical-align: middle;\n",
       "    }\n",
       "\n",
       "    .dataframe tbody tr th {\n",
       "        vertical-align: top;\n",
       "    }\n",
       "\n",
       "    .dataframe thead th {\n",
       "        text-align: right;\n",
       "    }\n",
       "</style>\n",
       "<table border=\"1\" class=\"dataframe\">\n",
       "  <thead>\n",
       "    <tr style=\"text-align: right;\">\n",
       "      <th></th>\n",
       "      <th>Q28_1</th>\n",
       "      <th>Q28_2</th>\n",
       "      <th>Q28_5</th>\n",
       "      <th>Q28_7</th>\n",
       "      <th>info_frag_ddp</th>\n",
       "    </tr>\n",
       "  </thead>\n",
       "  <tbody>\n",
       "    <tr>\n",
       "      <th>Q28_1</th>\n",
       "      <td>1.000</td>\n",
       "      <td>0.530</td>\n",
       "      <td>0.447</td>\n",
       "      <td>-0.633</td>\n",
       "      <td>0.268</td>\n",
       "    </tr>\n",
       "    <tr>\n",
       "      <th>Q28_2</th>\n",
       "      <td>0.530</td>\n",
       "      <td>1.000</td>\n",
       "      <td>0.669</td>\n",
       "      <td>-0.197</td>\n",
       "      <td>0.507</td>\n",
       "    </tr>\n",
       "    <tr>\n",
       "      <th>Q28_5</th>\n",
       "      <td>0.447</td>\n",
       "      <td>0.669</td>\n",
       "      <td>1.000</td>\n",
       "      <td>-0.370</td>\n",
       "      <td>0.226</td>\n",
       "    </tr>\n",
       "    <tr>\n",
       "      <th>Q28_7</th>\n",
       "      <td>-0.633</td>\n",
       "      <td>-0.197</td>\n",
       "      <td>-0.370</td>\n",
       "      <td>1.000</td>\n",
       "      <td>-0.179</td>\n",
       "    </tr>\n",
       "    <tr>\n",
       "      <th>info_frag_ddp</th>\n",
       "      <td>0.268</td>\n",
       "      <td>0.507</td>\n",
       "      <td>0.226</td>\n",
       "      <td>-0.179</td>\n",
       "      <td>1.000</td>\n",
       "    </tr>\n",
       "  </tbody>\n",
       "</table>\n",
       "</div>"
      ],
      "text/plain": [
       "               Q28_1  Q28_2  Q28_5  Q28_7  info_frag_ddp\n",
       "Q28_1          1.000  0.530  0.447 -0.633          0.268\n",
       "Q28_2          0.530  1.000  0.669 -0.197          0.507\n",
       "Q28_5          0.447  0.669  1.000 -0.370          0.226\n",
       "Q28_7         -0.633 -0.197 -0.370  1.000         -0.179\n",
       "info_frag_ddp  0.268  0.507  0.226 -0.179          1.000"
      ]
     },
     "execution_count": 20,
     "metadata": {},
     "output_type": "execute_result"
    }
   ],
   "source": [
    "df_info_qs[\"info_frag_ddp\"] = frac_info_content\n",
    "df_corr = df_info_qs.drop(columns=[\"Random ID\",\"info\"])\n",
    "df_corr.corr().round(3)\n"
   ]
  },
  {
   "cell_type": "code",
   "execution_count": 21,
   "id": "10f76e72",
   "metadata": {
    "ExecuteTime": {
     "end_time": "2024-03-11T13:26:37.286681Z",
     "start_time": "2024-03-11T13:26:36.094016Z"
    }
   },
   "outputs": [],
   "source": [
    "from scipy.stats import pearsonr"
   ]
  },
  {
   "cell_type": "code",
   "execution_count": 22,
   "id": "7af87a7b",
   "metadata": {
    "ExecuteTime": {
     "end_time": "2024-03-11T13:26:37.298278Z",
     "start_time": "2024-03-11T13:26:37.289158Z"
    }
   },
   "outputs": [
    {
     "data": {
      "text/plain": [
       "PearsonRResult(statistic=0.2680619609781814, pvalue=0.28215900539363936)"
      ]
     },
     "execution_count": 22,
     "metadata": {},
     "output_type": "execute_result"
    }
   ],
   "source": [
    "pearsonr(df_corr[\"info_frag_ddp\"], df_corr[\"Q28_1\"])"
   ]
  },
  {
   "cell_type": "code",
   "execution_count": 23,
   "id": "d7302bb7",
   "metadata": {
    "ExecuteTime": {
     "end_time": "2024-03-11T13:26:37.314740Z",
     "start_time": "2024-03-11T13:26:37.310052Z"
    }
   },
   "outputs": [
    {
     "data": {
      "text/plain": [
       "PearsonRResult(statistic=0.50672524398283, pvalue=0.03186632296548283)"
      ]
     },
     "execution_count": 23,
     "metadata": {},
     "output_type": "execute_result"
    }
   ],
   "source": [
    "pearsonr(df_corr[\"info_frag_ddp\"], df_corr[\"Q28_2\"])"
   ]
  },
  {
   "cell_type": "code",
   "execution_count": 24,
   "id": "cd1f7006",
   "metadata": {
    "ExecuteTime": {
     "end_time": "2024-03-11T13:26:37.928145Z",
     "start_time": "2024-03-11T13:26:37.921665Z"
    }
   },
   "outputs": [
    {
     "data": {
      "text/plain": [
       "PearsonRResult(statistic=0.22632412571086907, pvalue=0.3664859965381587)"
      ]
     },
     "execution_count": 24,
     "metadata": {},
     "output_type": "execute_result"
    }
   ],
   "source": [
    "pearsonr(df_corr[\"info_frag_ddp\"], df_corr[\"Q28_5\"])"
   ]
  },
  {
   "cell_type": "code",
   "execution_count": 25,
   "id": "489b92f7",
   "metadata": {
    "ExecuteTime": {
     "end_time": "2024-03-11T13:26:38.503829Z",
     "start_time": "2024-03-11T13:26:38.498088Z"
    }
   },
   "outputs": [
    {
     "data": {
      "text/plain": [
       "PearsonRResult(statistic=-0.17851753385619396, pvalue=0.47848760705546783)"
      ]
     },
     "execution_count": 25,
     "metadata": {},
     "output_type": "execute_result"
    }
   ],
   "source": [
    "pearsonr(df_corr[\"info_frag_ddp\"], df_corr[\"Q28_7\"])"
   ]
  }
 ],
 "metadata": {
  "kernelspec": {
   "display_name": "Python [conda env:env_multimodal]",
   "language": "python",
   "name": "conda-env-env_multimodal-py"
  },
  "language_info": {
   "codemirror_mode": {
    "name": "ipython",
    "version": 3
   },
   "file_extension": ".py",
   "mimetype": "text/x-python",
   "name": "python",
   "nbconvert_exporter": "python",
   "pygments_lexer": "ipython3",
   "version": "3.10.12"
  },
  "toc": {
   "base_numbering": 1,
   "nav_menu": {},
   "number_sections": true,
   "sideBar": true,
   "skip_h1_title": false,
   "title_cell": "Table of Contents",
   "title_sidebar": "Contents",
   "toc_cell": false,
   "toc_position": {},
   "toc_section_display": true,
   "toc_window_display": false
  }
 },
 "nbformat": 4,
 "nbformat_minor": 5
}
