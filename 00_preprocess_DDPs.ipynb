{
 "cells": [
  {
   "cell_type": "code",
   "execution_count": 50,
   "id": "f2fa67bd",
   "metadata": {
    "ExecuteTime": {
     "end_time": "2024-03-11T09:29:08.604179Z",
     "start_time": "2024-03-11T09:29:08.157948Z"
    }
   },
   "outputs": [],
   "source": [
    "import pandas as pd\n",
    "import os\n",
    "import numpy as np\n",
    "from tqdm.auto import tqdm\n",
    "from collections import Counter\n",
    "import pickle\n",
    "import re\n",
    "def extract_v_id(string):\n",
    "    m = re.findall(r'\\d{19}', string)\n",
    "    return int(m[0])"
   ]
  },
  {
   "cell_type": "code",
   "execution_count": 5,
   "id": "c34d75e8",
   "metadata": {
    "ExecuteTime": {
     "end_time": "2024-03-11T09:29:36.086567Z",
     "start_time": "2024-03-11T09:29:36.069579Z"
    }
   },
   "outputs": [],
   "source": [
    "ddp_path = \"data/DDPs_Sept_2023/\"\n",
    "ddp_files = os.listdir(ddp_path)"
   ]
  },
  {
   "cell_type": "code",
   "execution_count": 6,
   "id": "ce6727a8",
   "metadata": {
    "ExecuteTime": {
     "end_time": "2024-03-11T09:29:36.946132Z",
     "start_time": "2024-03-11T09:29:36.942336Z"
    }
   },
   "outputs": [],
   "source": [
    "# rename action var\n",
    "actions_dict = {'You posted a video':\"posting\", \n",
    "                'You blocked someone':\"blocking\",\n",
    "                'You watched a video':\"watching\", \n",
    "                'You liked a video':\"liking\", \n",
    "                'You logged in':\"logging_in\",\n",
    "                'You searched for something':\"searching\", \n",
    "                'You followed someone':\"following\",\n",
    "               'You favorited a video':\"favorites\",\n",
    "                'You shared a video':\"sharing\",\n",
    "               'You sent/received a private message':\"PM\", \n",
    "                'You watched a live stream':\"watching_live\",\n",
    "               'You posted a comment':\"commenting\",\n",
    "               }"
   ]
  },
  {
   "cell_type": "markdown",
   "id": "9a884e87",
   "metadata": {},
   "source": [
    "# Filter for sessions and keep only the ones without duplciates"
   ]
  },
  {
   "cell_type": "code",
   "execution_count": 8,
   "id": "f20107a1",
   "metadata": {
    "ExecuteTime": {
     "end_time": "2024-03-11T09:31:26.246474Z",
     "start_time": "2024-03-11T09:30:12.494523Z"
    },
    "code_folding": [],
    "scrolled": true
   },
   "outputs": [
    {
     "data": {
      "application/vnd.jupyter.widget-view+json": {
       "model_id": "791e2ca9459842cd969113002d8c7711",
       "version_major": 2,
       "version_minor": 0
      },
      "text/plain": [
       "  0%|          | 0/18 [00:00<?, ?it/s]"
      ]
     },
     "metadata": {},
     "output_type": "display_data"
    },
    {
     "name": "stdout",
     "output_type": "stream",
     "text": [
      "ID_6592.csv 94387 1401 1642 0.5395990798554059 212\n",
      "ID_8613.csv 2519 65 111 0.6306818181818182 34\n",
      "ID_4256.csv 2536 31 65 0.6770833333333334 26\n",
      "ID_2354.csv 57081 660 807 0.5501022494887525 60\n",
      "ID_3000.csv 2992 34 68 0.6666666666666666 2\n",
      "ID_6173.csv 1742 9 11 0.55 5\n",
      "ID_7005.csv 472 2 14 0.875 11\n",
      "ID_6871.csv 18108 337 484 0.5895249695493301 912\n",
      "ID_9228.csv 23701 25 212 0.8945147679324894 596\n",
      "ID_8802.csv 118025 2534 1079 0.29864378632715194 326\n",
      "ID_6266.csv 193985 640 4057 0.8637428145624867 1657\n",
      "ID_5209.csv 88428 3080 1201 0.28054192945573464 576\n",
      "ID_4855.csv 1211 17 19 0.5277777777777778 5\n",
      "ID_8720.csv 15999 194 374 0.6584507042253521 70\n",
      "ID_5319.csv 8785 370 199 0.34973637961335674 31\n",
      "ID_6994.csv 37612 1046 726 0.40970654627539504 109\n",
      "ID_1435.csv 1557 59 10 0.14492753623188406 6\n",
      "ID_1065.csv 50109 3613 1671 0.31623769871309615 359\n"
     ]
    }
   ],
   "source": [
    "usability_info = []\n",
    "no_watching = []\n",
    "usable_total = 0\n",
    "unusable_total = 0\n",
    "\n",
    "for ddp_f in tqdm(ddp_files):\n",
    "#for ddp_f in tqdm([\"ID_8613.csv\"]):\n",
    "    path = ddp_path+ddp_f\n",
    "    ddp_temp = pd.read_csv(path)\n",
    "    \n",
    "    # format date\n",
    "    ddp_temp[\"Date\"] = [pd.to_datetime(i.replace(\"UTC\",\"\")) for i in ddp_temp[\"Date\"]]\n",
    "    ddp_temp[\"Date\"] = pd.to_datetime(ddp_temp[\"Date\"])\n",
    "    \n",
    "    # format Action\n",
    "    ddp_temp[\"Action\"] = ddp_temp[\"Action\"].map(actions_dict)\n",
    "    \n",
    "    # format video_id\n",
    "    v_ids = []\n",
    "    for i in ddp_temp[\"Url\"]:\n",
    "        if pd.notna(i):\n",
    "            try:\n",
    "                v_ids.append(extract_v_id(i))\n",
    "            except:\n",
    "                v_ids.append(\"live stream\") # live stream links\n",
    "        else:\n",
    "            v_ids.append(\"no video\")\n",
    "    ddp_temp[\"v_ids\"] = v_ids\n",
    "\n",
    "    # subset from first watch entry in ddp\n",
    "    first_video = ddp_temp[ddp_temp[\"Action\"]==\"watching\"][\"Date\"].min()\n",
    "    ddp_temp = ddp_temp[ddp_temp[\"Date\"]>=first_video]\n",
    "    \n",
    "    # get delta between time stamps and delete first \n",
    "    ddp_temp = ddp_temp.reset_index(drop=True)\n",
    "    activity_time = ddp_temp[\"Date\"].diff(periods=1)[1:].dt.total_seconds()\n",
    "    # drop the final activity per ddp to align with deltas\n",
    "    ddp_temp = ddp_temp.drop(ddp_temp.tail(1).index)\n",
    "    # add deltas as activity time (moved by one row up)\n",
    "    ddp_temp[\"activity_time\"] = list(activity_time)\n",
    "    \n",
    "    ### split in sessions\n",
    "    # get indices for each session\n",
    "    split_idxs = list(activity_time[activity_time>=105].index)\n",
    "    split_idys = list(split_idxs)[1:]\n",
    "    split_idys.extend([-1])\n",
    "    \n",
    "    \n",
    "    usable_count = 0\n",
    "    unusable_count = 0\n",
    "    no_w_count = 0\n",
    "    for x,y in zip(split_idxs, split_idys):\n",
    "        \n",
    "        session = ddp_temp.loc[x:y-1]   \n",
    "        \n",
    "        # erase any session without watching! not usefull\n",
    "        \n",
    "        # drop \"logging_in\" & \"following\"\n",
    "        session = session[session[\"Action\"]!=\"logging_in\"]\n",
    "        session = session[session[\"Action\"]!=\"following\"]\n",
    "        \n",
    "        # remove non watching activities at the beginning of a session\n",
    "        remove_until = 0\n",
    "        for action in session.Action:\n",
    "            if action != \"watching\":\n",
    "                remove_until += 1\n",
    "            else:\n",
    "                break\n",
    "        session = session.reset_index(drop=True)\n",
    "        session = session.iloc[remove_until:]\n",
    "        session = session.reset_index(drop=True)\n",
    "\n",
    "\n",
    "        if \"watching\" in list(session.Action):\n",
    "            \n",
    "            # filter for not usable sessions\n",
    "            if len(session) >= 2: # if \n",
    "                duplicates = session.Date.duplicated(keep=\"first\")\n",
    "                duplicates_counter = Counter(duplicates)\n",
    "\n",
    "                if duplicates_counter[True]/len(session) != 0:\n",
    "                    unusable_count += 1\n",
    "\n",
    "                else: \n",
    "                    usable_count += 1\n",
    "                    # save successfull sessions\n",
    "                    f_name = f\"{ddp_f[:-4]+'_'+str(usable_count)}.csv\"\n",
    "                    session.to_csv(f\"data/session_dataframes/{f_name}\", index=False)\n",
    "        else:\n",
    "            no_w_count += 1\n",
    "            \n",
    "            \n",
    "    frac_unusable = unusable_count/(usable_count+unusable_count)\n",
    "    usability_info.append(frac_unusable)\n",
    "    no_watching.append(no_w_count)\n",
    "    \n",
    "    unusable_total += unusable_count\n",
    "    usable_total += usable_count\n",
    "    print(ddp_f, len(ddp_temp), usable_count, unusable_count, frac_unusable, no_w_count)"
   ]
  },
  {
   "cell_type": "code",
   "execution_count": 13,
   "id": "110600bc",
   "metadata": {
    "ExecuteTime": {
     "end_time": "2024-03-11T09:31:32.918047Z",
     "start_time": "2024-03-11T09:31:32.907587Z"
    }
   },
   "outputs": [
    {
     "name": "stdout",
     "output_type": "stream",
     "text": [
      "Sessions without duplicates in total (usable sessions):14117\n",
      "Sessions with duplicates in total (unusable sessions):12750\n",
      "Fraction of unusable sessions: 47.45598689842558\n"
     ]
    }
   ],
   "source": [
    "print(f\"Sessions without duplicates in total (usable sessions):{usable_total}\")\n",
    "print(f\"Sessions with duplicates in total (unusable sessions):{unusable_total}\")\n",
    "print(f\"Fraction of unusable sessions: {(unusable_total/(unusable_total+usable_total))*100}\")"
   ]
  },
  {
   "cell_type": "markdown",
   "id": "aa210d5d",
   "metadata": {},
   "source": [
    "# Extract video IDS of latest 100 sessions for each user for meta data collection"
   ]
  },
  {
   "cell_type": "code",
   "execution_count": 18,
   "id": "71bfeeb0",
   "metadata": {
    "ExecuteTime": {
     "end_time": "2024-03-11T09:31:38.560608Z",
     "start_time": "2024-03-11T09:31:38.547658Z"
    }
   },
   "outputs": [],
   "source": [
    "session_files = os.listdir(\"data/session_dataframes/\")\n",
    "session_files = [i for i in session_files if \"._\" not in i]\n",
    "\n",
    "ids = [int(i[3:7]) for i in session_files]\n",
    "u_ids = list(set(ids))"
   ]
  },
  {
   "cell_type": "code",
   "execution_count": 25,
   "id": "36a47a35",
   "metadata": {
    "ExecuteTime": {
     "end_time": "2023-10-10T10:41:54.868156Z",
     "start_time": "2023-10-10T10:41:53.619534Z"
    }
   },
   "outputs": [
    {
     "data": {
      "application/vnd.jupyter.widget-view+json": {
       "model_id": "35ea93b10a8c40829a657ba7559f6650",
       "version_major": 2,
       "version_minor": 0
      },
      "text/plain": [
       "  0%|          | 0/18 [00:00<?, ?it/s]"
      ]
     },
     "metadata": {},
     "output_type": "display_data"
    }
   ],
   "source": [
    "session_sample = []\n",
    "v_ids_sample = []\n",
    "\n",
    "for u_id in tqdm(u_ids):    \n",
    "    for i in range(1,101):\n",
    "        \n",
    "        try:\n",
    "            file_name = f\"ID_{u_id}_{i}\"\n",
    "            temp_df = pd.read_csv(f\"data/session_dataframes/{file_name}.csv\")\n",
    "            session_sample.append(file_name)\n",
    "            \n",
    "            temp_df = temp_df[temp_df[\"Action\"]==\"watching\"]\n",
    "            v_ids = [extract_v_id(i) for i in temp_df.Url if pd.notna(i)] \n",
    "            v_ids_sample.extend(v_ids)\n",
    "            \n",
    "            \n",
    "        except FileNotFoundError:\n",
    "            pass"
   ]
  },
  {
   "cell_type": "code",
   "execution_count": 27,
   "id": "8cc06052",
   "metadata": {
    "ExecuteTime": {
     "end_time": "2023-10-10T10:41:54.870940Z",
     "start_time": "2023-10-10T10:41:54.868980Z"
    }
   },
   "outputs": [
    {
     "name": "stdout",
     "output_type": "stream",
     "text": [
      "Total number of sessions in sample: 1242\n",
      "Total number of videos in sample: 13342\n"
     ]
    }
   ],
   "source": [
    "print(f\"Total number of sessions in sample: {len(set(session_sample))}\")\n",
    "print(f\"Total number of videos in sample: {len(set(v_ids_sample))}\")"
   ]
  },
  {
   "cell_type": "code",
   "execution_count": 28,
   "id": "6182c601",
   "metadata": {
    "ExecuteTime": {
     "end_time": "2023-10-10T10:41:54.881681Z",
     "start_time": "2023-10-10T10:41:54.874959Z"
    }
   },
   "outputs": [],
   "source": [
    "with open(\"data/session_sample_vIDs_100.pkl\", \"wb\") as f:\n",
    "    pickle.dump(session_sample,f)\n",
    "with open(\"data/video_ids_sample_100.pkl\", \"wb\") as f:\n",
    "    pickle.dump(list(set(v_ids_sample)),f)"
   ]
  },
  {
   "cell_type": "markdown",
   "id": "3ea424dc",
   "metadata": {},
   "source": [
    "# Generate csv. for analysis, add video length from metadata"
   ]
  },
  {
   "cell_type": "code",
   "execution_count": 53,
   "id": "fb6008b9",
   "metadata": {
    "ExecuteTime": {
     "end_time": "2023-10-10T11:22:18.923632Z",
     "start_time": "2023-10-10T11:22:18.918792Z"
    }
   },
   "outputs": [],
   "source": [
    "active_endorsement = [\"liking\", \"favorites\",\"sharing\",\"commenting\"]\n",
    "other_activities = [\"searching\",\"PM\",\"watching_live\"]"
   ]
  },
  {
   "cell_type": "code",
   "execution_count": 67,
   "id": "6e22e9e5",
   "metadata": {
    "ExecuteTime": {
     "end_time": "2023-10-10T11:22:19.344339Z",
     "start_time": "2023-10-10T11:22:19.337484Z"
    }
   },
   "outputs": [],
   "source": [
    "# prepare functions\n",
    "\n",
    "def generate_active_endorsment_dict(df,active_endorsements):\n",
    "    endorsement_dict = {}\n",
    "\n",
    "    df = df.reset_index(drop=True)\n",
    "    \n",
    "    \n",
    "    active_endorsement_col = []\n",
    "    for i in df.index:\n",
    "    \n",
    "        user = df.loc[i,\"ID\"]\n",
    "        session = df.loc[i,\"session\"]\n",
    "        activity = df.loc[i,\"Action\"]\n",
    "        engagement_count = 0\n",
    "        if activity in active_endorsement:\n",
    "            for j in range(len(active_endorsement)): #up to x active endorsements are possible\n",
    "                idx = j+1\n",
    "                prev_activity = df.loc[i-idx,\"Action\"]\n",
    "                if prev_activity == \"watching\":\n",
    "                    video_id = df.loc[i-idx,\"v_ids\"]\n",
    "                    time_stamp = df.loc[i-idx,\"Date\"]\n",
    "                    identity = str(video_id)+\"_\"+str(time_stamp)\n",
    "                    engagement_count += 1\n",
    "                    break  #, if previous activity was watching no more endorsement related to it, can be\n",
    "\n",
    "                elif prev_activity in other_activities:\n",
    "                    break\n",
    "                    # if previous activity was in \"other activities\" we can not relate the endorsement reliably anymore\n",
    "                else: \n",
    "                    pass # in any other case (prev was itself endorsement), we assume stacked endorsement\n",
    "        \n",
    "        \n",
    "        active_endorsement_col.append(engagement_count)\n",
    "        \n",
    "    return active_endorsement_col\n",
    "\n",
    "def return_video_length(v_id):\n",
    "    try:\n",
    "        path = f\"data/meta_data_small/{str(v_id)}.pkl\"\n",
    "        with open(path, \"rb\") as f:\n",
    "            meta_temp = pickle.load(f)\n",
    "        video_duration = meta_temp[\"video_duration\"]\n",
    "    except:\n",
    "        video_duration = None\n",
    "        \n",
    "    return video_duration\n",
    "\n",
    "def delta(df):\n",
    "\n",
    "    df = df.reset_index(drop=True)\n",
    "    \n",
    "    watch_time = df[\"Date\"].diff(periods=1)[1:].dt.total_seconds()\n",
    "    \n",
    "    augmented_session = df.drop(df.tail(1).index)\n",
    "    augmented_session[\"watch_time\"] = list(watch_time)\n",
    "    \n",
    "    return augmented_session"
   ]
  },
  {
   "cell_type": "code",
   "execution_count": 68,
   "id": "8012b2bc",
   "metadata": {
    "ExecuteTime": {
     "end_time": "2024-03-11T09:33:07.928874Z",
     "start_time": "2024-03-11T09:33:07.922720Z"
    }
   },
   "outputs": [],
   "source": [
    "with open(\"data/session_sample_vIDs_100.pkl\", \"rb\") as f:\n",
    "    session_sample = pickle.load(f)"
   ]
  },
  {
   "cell_type": "code",
   "execution_count": 69,
   "id": "571d9791",
   "metadata": {
    "ExecuteTime": {
     "end_time": "2023-10-10T11:23:06.926723Z",
     "start_time": "2023-10-10T11:22:28.984357Z"
    }
   },
   "outputs": [
    {
     "data": {
      "application/vnd.jupyter.widget-view+json": {
       "model_id": "5728810c796d443e92ae211520b3ca65",
       "version_major": 2,
       "version_minor": 0
      },
      "text/plain": [
       "  0%|          | 0/1242 [00:00<?, ?it/s]"
      ]
     },
     "metadata": {},
     "output_type": "display_data"
    }
   ],
   "source": [
    "dfs = []\n",
    "\n",
    "for i in tqdm(session_sample):\n",
    "    temp_df = pd.read_csv(f\"data/session_dataframes/{i}.csv\")\n",
    "    _,u_id,n_session = i.split(\"_\")\n",
    "    temp_df[\"ID\"] = u_id\n",
    "    temp_df[\"session\"] = n_session\n",
    "        \n",
    "    # add active endorsment\n",
    "    a_engagement_col = generate_active_endorsment_dict(temp_df, active_endorsement)\n",
    "    a_engagement_col = a_engagement_col[1:]\n",
    "    a_engagement_col.append(0)\n",
    "    temp_df[\"active_engament\"] = a_engagement_col\n",
    "    \n",
    "    # Add activity times of active endorsement to the respective video\n",
    "    # delete rows of such activities, then\n",
    "    temp_df = temp_df.reset_index(drop=True)\n",
    "    \n",
    "    for idx in range(len(temp_df)):\n",
    "        activity = temp_df.loc[idx,\"Action\"]\n",
    "        a_engagement = temp_df.loc[idx,\"active_engament\"]\n",
    "\n",
    "        if a_engagement >0:\n",
    "            wt_toadd = 0\n",
    "            for i in range(a_engagement):\n",
    "                if idx+i >= len(temp_df):\n",
    "                    break\n",
    "                else:\n",
    "\n",
    "                    follow_activity = temp_df.loc[idx+(i+1),\"Action\"]\n",
    "                    if follow_activity in active_endorsement:\n",
    "                        follow_wt = temp_df.loc[idx+(i+1),\"activity_time\"]\n",
    "                        wt_toadd += follow_wt\n",
    "            \n",
    "            temp_df.loc[idx,\"activity_time\"] += wt_toadd\n",
    "\n",
    "    keep = ['watching']\n",
    "    mask = temp_df['Action'].isin(keep)\n",
    "    temp_df = temp_df[mask]\n",
    "    \n",
    "    \n",
    "    # add passive endorsement\n",
    "    durations = []\n",
    "    for v_id in temp_df.v_ids:\n",
    "        durations.append(return_video_length(v_id))\n",
    "    temp_df[\"video_length\"] = durations\n",
    "    \n",
    "    temp_df[\"wt_frac\"] = temp_df[\"activity_time\"]/temp_df[\"video_length\"]\n",
    "    \n",
    "    # remove last video in session (better underestimate than over estimate)\n",
    "    \n",
    "    temp_df = temp_df.iloc[:-1]\n",
    "    \n",
    "    \n",
    "    dfs.append(temp_df)"
   ]
  },
  {
   "cell_type": "code",
   "execution_count": 70,
   "id": "1bde9a51",
   "metadata": {
    "ExecuteTime": {
     "end_time": "2023-10-10T11:23:07.171936Z",
     "start_time": "2023-10-10T11:23:06.928979Z"
    }
   },
   "outputs": [
    {
     "data": {
      "text/html": [
       "<div>\n",
       "<style scoped>\n",
       "    .dataframe tbody tr th:only-of-type {\n",
       "        vertical-align: middle;\n",
       "    }\n",
       "\n",
       "    .dataframe tbody tr th {\n",
       "        vertical-align: top;\n",
       "    }\n",
       "\n",
       "    .dataframe thead th {\n",
       "        text-align: right;\n",
       "    }\n",
       "</style>\n",
       "<table border=\"1\" class=\"dataframe\">\n",
       "  <thead>\n",
       "    <tr style=\"text-align: right;\">\n",
       "      <th></th>\n",
       "      <th>Date</th>\n",
       "      <th>Action</th>\n",
       "      <th>Url</th>\n",
       "      <th>OperatingSystem</th>\n",
       "      <th>likes</th>\n",
       "      <th>v_ids</th>\n",
       "      <th>activity_time</th>\n",
       "      <th>ID</th>\n",
       "      <th>session</th>\n",
       "      <th>active_engament</th>\n",
       "      <th>video_length</th>\n",
       "      <th>wt_frac</th>\n",
       "    </tr>\n",
       "  </thead>\n",
       "  <tbody>\n",
       "    <tr>\n",
       "      <th>0</th>\n",
       "      <td>2023-03-17 11:37:38</td>\n",
       "      <td>watching</td>\n",
       "      <td>https://www.tiktokv.com/share/video/6984429060...</td>\n",
       "      <td>NaN</td>\n",
       "      <td>NaN</td>\n",
       "      <td>6984429060914990342</td>\n",
       "      <td>26.0</td>\n",
       "      <td>6592</td>\n",
       "      <td>1</td>\n",
       "      <td>0</td>\n",
       "      <td>24.0</td>\n",
       "      <td>1.083333</td>\n",
       "    </tr>\n",
       "    <tr>\n",
       "      <th>2</th>\n",
       "      <td>2023-03-17 11:38:05</td>\n",
       "      <td>watching</td>\n",
       "      <td>https://www.tiktokv.com/share/video/7211168761...</td>\n",
       "      <td>NaN</td>\n",
       "      <td>NaN</td>\n",
       "      <td>7211168761695604014</td>\n",
       "      <td>20.0</td>\n",
       "      <td>6592</td>\n",
       "      <td>1</td>\n",
       "      <td>0</td>\n",
       "      <td>12.0</td>\n",
       "      <td>1.666667</td>\n",
       "    </tr>\n",
       "    <tr>\n",
       "      <th>3</th>\n",
       "      <td>2023-03-17 11:38:25</td>\n",
       "      <td>watching</td>\n",
       "      <td>https://www.tiktokv.com/share/video/7211204623...</td>\n",
       "      <td>NaN</td>\n",
       "      <td>NaN</td>\n",
       "      <td>7211204623296630022</td>\n",
       "      <td>6.0</td>\n",
       "      <td>6592</td>\n",
       "      <td>1</td>\n",
       "      <td>0</td>\n",
       "      <td>10.0</td>\n",
       "      <td>0.600000</td>\n",
       "    </tr>\n",
       "    <tr>\n",
       "      <th>5</th>\n",
       "      <td>2023-03-17 11:38:34</td>\n",
       "      <td>watching</td>\n",
       "      <td>https://www.tiktokv.com/share/video/7194066849...</td>\n",
       "      <td>NaN</td>\n",
       "      <td>NaN</td>\n",
       "      <td>7194066849594756354</td>\n",
       "      <td>37.0</td>\n",
       "      <td>6592</td>\n",
       "      <td>1</td>\n",
       "      <td>0</td>\n",
       "      <td>26.0</td>\n",
       "      <td>1.423077</td>\n",
       "    </tr>\n",
       "    <tr>\n",
       "      <th>6</th>\n",
       "      <td>2023-03-17 11:39:11</td>\n",
       "      <td>watching</td>\n",
       "      <td>https://www.tiktokv.com/share/video/7208232985...</td>\n",
       "      <td>NaN</td>\n",
       "      <td>NaN</td>\n",
       "      <td>7208232985055841542</td>\n",
       "      <td>9.0</td>\n",
       "      <td>6592</td>\n",
       "      <td>1</td>\n",
       "      <td>0</td>\n",
       "      <td>15.0</td>\n",
       "      <td>0.600000</td>\n",
       "    </tr>\n",
       "  </tbody>\n",
       "</table>\n",
       "</div>"
      ],
      "text/plain": [
       "                  Date    Action  \\\n",
       "0  2023-03-17 11:37:38  watching   \n",
       "2  2023-03-17 11:38:05  watching   \n",
       "3  2023-03-17 11:38:25  watching   \n",
       "5  2023-03-17 11:38:34  watching   \n",
       "6  2023-03-17 11:39:11  watching   \n",
       "\n",
       "                                                 Url  OperatingSystem  likes  \\\n",
       "0  https://www.tiktokv.com/share/video/6984429060...              NaN    NaN   \n",
       "2  https://www.tiktokv.com/share/video/7211168761...              NaN    NaN   \n",
       "3  https://www.tiktokv.com/share/video/7211204623...              NaN    NaN   \n",
       "5  https://www.tiktokv.com/share/video/7194066849...              NaN    NaN   \n",
       "6  https://www.tiktokv.com/share/video/7208232985...              NaN    NaN   \n",
       "\n",
       "                 v_ids  activity_time    ID session  active_engament  \\\n",
       "0  6984429060914990342           26.0  6592       1                0   \n",
       "2  7211168761695604014           20.0  6592       1                0   \n",
       "3  7211204623296630022            6.0  6592       1                0   \n",
       "5  7194066849594756354           37.0  6592       1                0   \n",
       "6  7208232985055841542            9.0  6592       1                0   \n",
       "\n",
       "   video_length   wt_frac  \n",
       "0          24.0  1.083333  \n",
       "2          12.0  1.666667  \n",
       "3          10.0  0.600000  \n",
       "5          26.0  1.423077  \n",
       "6          15.0  0.600000  "
      ]
     },
     "execution_count": 70,
     "metadata": {},
     "output_type": "execute_result"
    }
   ],
   "source": [
    "final_df = pd.concat(dfs)\n",
    "final_df = final_df.replace(np.inf, np.nan) # inf are pictore galleries (no default length)\n",
    "final_df = final_df.dropna(subset=[\"video_length\"], axis=0)\n",
    "final_df[\"wt_frac\"] = final_df.wt_frac.astype(float)\n",
    "final_df.head()"
   ]
  },
  {
   "cell_type": "code",
   "execution_count": 73,
   "id": "7455092b",
   "metadata": {
    "ExecuteTime": {
     "end_time": "2023-10-10T11:23:21.139134Z",
     "start_time": "2023-10-10T11:23:21.127600Z"
    }
   },
   "outputs": [
    {
     "data": {
      "text/plain": [
       "count    11253.000000\n",
       "mean         0.961998\n",
       "std          1.142212\n",
       "min          0.000000\n",
       "25%          0.181818\n",
       "50%          0.818182\n",
       "75%          1.214286\n",
       "max         16.800000\n",
       "Name: wt_frac, dtype: float64"
      ]
     },
     "execution_count": 73,
     "metadata": {},
     "output_type": "execute_result"
    }
   ],
   "source": [
    "# passive engagement at median watch time PER USER! different\n",
    "final_df.wt_frac.describe()\n",
    "# median at 74% of watch time"
   ]
  },
  {
   "cell_type": "code",
   "execution_count": 74,
   "id": "6c4ccde2",
   "metadata": {
    "ExecuteTime": {
     "end_time": "2023-10-10T11:23:22.729556Z",
     "start_time": "2023-10-10T11:23:22.690551Z"
    }
   },
   "outputs": [],
   "source": [
    "median_wt_per_user = {}\n",
    "\n",
    "for u_id in final_df.ID.unique():\n",
    "    \n",
    "    temp_df = final_df[final_df[\"ID\"]==u_id]\n",
    "    desc = temp_df.wt_frac.describe()\n",
    "    median_wt_per_user[u_id] = desc.mean()\n"
   ]
  },
  {
   "cell_type": "code",
   "execution_count": 75,
   "id": "6d2a8683",
   "metadata": {
    "ExecuteTime": {
     "end_time": "2023-10-10T11:23:23.246335Z",
     "start_time": "2023-10-10T11:23:23.241682Z"
    }
   },
   "outputs": [
    {
     "data": {
      "text/plain": [
       "{'6592': 187.83593233952533,\n",
       " '4256': 18.786942219821103,\n",
       " '8802': 242.40239207219622,\n",
       " '8613': 37.552077240620676,\n",
       " '5319': 84.17364958473631,\n",
       " '1065': 80.50147508370902,\n",
       " '4855': 12.34585705910883,\n",
       " '7005': 1.9813758689865584,\n",
       " '9228': 16.135553216298923,\n",
       " '8720': 46.34780046179741,\n",
       " '2354': 168.81254493075667,\n",
       " '6994': 127.7015668163112,\n",
       " '6871': 81.63068129702766,\n",
       " '3000': 44.870085187922285,\n",
       " '5209': 93.40742343324051,\n",
       " '6266': 57.57636616175423,\n",
       " '1435': 114.56333260487574,\n",
       " '6173': 20.49731915680694}"
      ]
     },
     "execution_count": 75,
     "metadata": {},
     "output_type": "execute_result"
    }
   ],
   "source": [
    "median_wt_per_user"
   ]
  },
  {
   "cell_type": "code",
   "execution_count": 76,
   "id": "a15c8064",
   "metadata": {
    "ExecuteTime": {
     "end_time": "2023-10-10T11:23:23.841823Z",
     "start_time": "2023-10-10T11:23:23.835563Z"
    }
   },
   "outputs": [],
   "source": [
    "final_df[\"passive_endorsement\"] = 0"
   ]
  },
  {
   "cell_type": "code",
   "execution_count": 77,
   "id": "c6aeafe6",
   "metadata": {
    "ExecuteTime": {
     "end_time": "2023-10-10T11:23:24.401241Z",
     "start_time": "2023-10-10T11:23:24.398858Z"
    }
   },
   "outputs": [],
   "source": [
    "final_df.reset_index(drop=True, inplace=True)"
   ]
  },
  {
   "cell_type": "code",
   "execution_count": 78,
   "id": "66639343",
   "metadata": {
    "ExecuteTime": {
     "end_time": "2023-10-10T11:23:25.058751Z",
     "start_time": "2023-10-10T11:23:24.925673Z"
    }
   },
   "outputs": [],
   "source": [
    "p_e_col = []\n",
    "control = []\n",
    "for i in range(len(final_df)):\n",
    "    \n",
    "    u_id = final_df.loc[i,\"ID\"]\n",
    "    frac_ac_time = final_df.loc[i,\"wt_frac\"]\n",
    "    if frac_ac_time*100 >= median_wt_per_user[u_id]:\n",
    "        p_e_col.append(1)\n",
    "    else:\n",
    "        p_e_col.append(0)\n",
    "    "
   ]
  },
  {
   "cell_type": "code",
   "execution_count": 79,
   "id": "5565bb92",
   "metadata": {
    "ExecuteTime": {
     "end_time": "2023-10-10T11:23:25.537442Z",
     "start_time": "2023-10-10T11:23:25.532870Z"
    }
   },
   "outputs": [],
   "source": [
    "final_df[\"passive_endorsement\"] = p_e_col\n"
   ]
  },
  {
   "cell_type": "code",
   "execution_count": 80,
   "id": "66a75606",
   "metadata": {
    "ExecuteTime": {
     "end_time": "2023-10-10T11:23:26.081165Z",
     "start_time": "2023-10-10T11:23:26.076901Z"
    }
   },
   "outputs": [
    {
     "data": {
      "text/plain": [
       "Counter({0: 8016, 1: 3459})"
      ]
     },
     "execution_count": 80,
     "metadata": {},
     "output_type": "execute_result"
    }
   ],
   "source": [
    "len(final_df)\n",
    "Counter(p_e_col)"
   ]
  },
  {
   "cell_type": "markdown",
   "id": "3ab18f71",
   "metadata": {},
   "source": [
    "# Add classification"
   ]
  },
  {
   "cell_type": "code",
   "execution_count": 81,
   "id": "c87ea882",
   "metadata": {
    "ExecuteTime": {
     "end_time": "2023-10-12T12:17:39.294879Z",
     "start_time": "2023-10-12T12:17:39.291110Z"
    }
   },
   "outputs": [],
   "source": [
    "import pickle"
   ]
  },
  {
   "cell_type": "code",
   "execution_count": 85,
   "id": "4f533b39",
   "metadata": {
    "ExecuteTime": {
     "end_time": "2023-10-12T12:17:40.869802Z",
     "start_time": "2023-10-12T12:17:39.837120Z"
    }
   },
   "outputs": [],
   "source": [
    "with open('classifier/SVM_text_long_classifier.pkl', 'rb') as f:\n",
    "    clf = pickle.load(f)    "
   ]
  },
  {
   "cell_type": "code",
   "execution_count": 86,
   "id": "1296b553",
   "metadata": {
    "ExecuteTime": {
     "end_time": "2023-10-10T11:46:57.267068Z",
     "start_time": "2023-10-10T11:46:57.253209Z"
    }
   },
   "outputs": [
    {
     "data": {
      "text/plain": [
       "13342"
      ]
     },
     "execution_count": 86,
     "metadata": {},
     "output_type": "execute_result"
    }
   ],
   "source": [
    "with open(\"data/video_ids_sample_100.pkl\", \"rb\") as f:\n",
    "    v_ids_sample = pickle.load(f)\n",
    "len(v_ids_sample)"
   ]
  },
  {
   "cell_type": "code",
   "execution_count": 87,
   "id": "816dd10c",
   "metadata": {
    "ExecuteTime": {
     "end_time": "2023-10-10T11:47:15.793974Z",
     "start_time": "2023-10-10T11:46:57.809894Z"
    }
   },
   "outputs": [
    {
     "data": {
      "application/vnd.jupyter.widget-view+json": {
       "model_id": "034b9eb36e2d40a986e05861c6567c42",
       "version_major": 2,
       "version_minor": 0
      },
      "text/plain": [
       "  0%|          | 0/13342 [00:00<?, ?it/s]"
      ]
     },
     "metadata": {},
     "output_type": "display_data"
    }
   ],
   "source": [
    "class_dict = {}\n",
    "no_data = []\n",
    "for v_id in tqdm(v_ids_sample):\n",
    "    try:\n",
    "        with open(f\"/Volumes/Intenso/TT_explore_DB/video_data/embeddings/description_512/{v_id}.pkl\", \"rb\") as f:\n",
    "             text = pickle.load(f)\n",
    "        pred = clf.predict(text.reshape(1,-1))\n",
    "        class_dict[v_id] = pred[0]\n",
    "        \n",
    "    except:\n",
    "        no_data.append(v_id)\n",
    "        class_dict[v_id] = 9 #no data\n",
    "        "
   ]
  },
  {
   "cell_type": "code",
   "execution_count": null,
   "id": "d314b74e",
   "metadata": {},
   "outputs": [],
   "source": []
  },
  {
   "cell_type": "code",
   "execution_count": 88,
   "id": "a9719ea0",
   "metadata": {
    "ExecuteTime": {
     "end_time": "2023-10-10T11:47:15.807896Z",
     "start_time": "2023-10-10T11:47:15.795796Z"
    }
   },
   "outputs": [],
   "source": [
    "final_df.reset_index(drop=True, inplace=True)\n",
    "final_df[\"v_ids\"] = final_df[\"v_ids\"].astype(int)"
   ]
  },
  {
   "cell_type": "code",
   "execution_count": 89,
   "id": "f2b32fc4",
   "metadata": {
    "ExecuteTime": {
     "end_time": "2023-10-10T11:47:15.823536Z",
     "start_time": "2023-10-10T11:47:15.808649Z"
    }
   },
   "outputs": [],
   "source": [
    "final_df[\"class\"] = final_df[\"v_ids\"].map(class_dict)"
   ]
  },
  {
   "cell_type": "code",
   "execution_count": 90,
   "id": "07e536b0",
   "metadata": {
    "ExecuteTime": {
     "end_time": "2023-10-10T11:47:15.841513Z",
     "start_time": "2023-10-10T11:47:15.825310Z"
    }
   },
   "outputs": [
    {
     "data": {
      "text/html": [
       "<div>\n",
       "<style scoped>\n",
       "    .dataframe tbody tr th:only-of-type {\n",
       "        vertical-align: middle;\n",
       "    }\n",
       "\n",
       "    .dataframe tbody tr th {\n",
       "        vertical-align: top;\n",
       "    }\n",
       "\n",
       "    .dataframe thead th {\n",
       "        text-align: right;\n",
       "    }\n",
       "</style>\n",
       "<table border=\"1\" class=\"dataframe\">\n",
       "  <thead>\n",
       "    <tr style=\"text-align: right;\">\n",
       "      <th></th>\n",
       "      <th>Date</th>\n",
       "      <th>Action</th>\n",
       "      <th>Url</th>\n",
       "      <th>OperatingSystem</th>\n",
       "      <th>likes</th>\n",
       "      <th>v_ids</th>\n",
       "      <th>activity_time</th>\n",
       "      <th>ID</th>\n",
       "      <th>session</th>\n",
       "      <th>active_engament</th>\n",
       "      <th>video_length</th>\n",
       "      <th>wt_frac</th>\n",
       "      <th>passive_endorsement</th>\n",
       "      <th>class</th>\n",
       "    </tr>\n",
       "  </thead>\n",
       "  <tbody>\n",
       "    <tr>\n",
       "      <th>0</th>\n",
       "      <td>2023-03-17 11:37:38</td>\n",
       "      <td>watching</td>\n",
       "      <td>https://www.tiktokv.com/share/video/6984429060...</td>\n",
       "      <td>NaN</td>\n",
       "      <td>NaN</td>\n",
       "      <td>6984429060914990342</td>\n",
       "      <td>26.0</td>\n",
       "      <td>6592</td>\n",
       "      <td>1</td>\n",
       "      <td>0</td>\n",
       "      <td>24.0</td>\n",
       "      <td>1.083333</td>\n",
       "      <td>0</td>\n",
       "      <td>0</td>\n",
       "    </tr>\n",
       "    <tr>\n",
       "      <th>1</th>\n",
       "      <td>2023-03-17 11:38:05</td>\n",
       "      <td>watching</td>\n",
       "      <td>https://www.tiktokv.com/share/video/7211168761...</td>\n",
       "      <td>NaN</td>\n",
       "      <td>NaN</td>\n",
       "      <td>7211168761695604014</td>\n",
       "      <td>20.0</td>\n",
       "      <td>6592</td>\n",
       "      <td>1</td>\n",
       "      <td>0</td>\n",
       "      <td>12.0</td>\n",
       "      <td>1.666667</td>\n",
       "      <td>0</td>\n",
       "      <td>0</td>\n",
       "    </tr>\n",
       "    <tr>\n",
       "      <th>2</th>\n",
       "      <td>2023-03-17 11:38:25</td>\n",
       "      <td>watching</td>\n",
       "      <td>https://www.tiktokv.com/share/video/7211204623...</td>\n",
       "      <td>NaN</td>\n",
       "      <td>NaN</td>\n",
       "      <td>7211204623296630022</td>\n",
       "      <td>6.0</td>\n",
       "      <td>6592</td>\n",
       "      <td>1</td>\n",
       "      <td>0</td>\n",
       "      <td>10.0</td>\n",
       "      <td>0.600000</td>\n",
       "      <td>0</td>\n",
       "      <td>0</td>\n",
       "    </tr>\n",
       "    <tr>\n",
       "      <th>3</th>\n",
       "      <td>2023-03-17 11:38:34</td>\n",
       "      <td>watching</td>\n",
       "      <td>https://www.tiktokv.com/share/video/7194066849...</td>\n",
       "      <td>NaN</td>\n",
       "      <td>NaN</td>\n",
       "      <td>7194066849594756354</td>\n",
       "      <td>37.0</td>\n",
       "      <td>6592</td>\n",
       "      <td>1</td>\n",
       "      <td>0</td>\n",
       "      <td>26.0</td>\n",
       "      <td>1.423077</td>\n",
       "      <td>0</td>\n",
       "      <td>1</td>\n",
       "    </tr>\n",
       "    <tr>\n",
       "      <th>4</th>\n",
       "      <td>2023-03-17 11:39:11</td>\n",
       "      <td>watching</td>\n",
       "      <td>https://www.tiktokv.com/share/video/7208232985...</td>\n",
       "      <td>NaN</td>\n",
       "      <td>NaN</td>\n",
       "      <td>7208232985055841542</td>\n",
       "      <td>9.0</td>\n",
       "      <td>6592</td>\n",
       "      <td>1</td>\n",
       "      <td>0</td>\n",
       "      <td>15.0</td>\n",
       "      <td>0.600000</td>\n",
       "      <td>0</td>\n",
       "      <td>0</td>\n",
       "    </tr>\n",
       "    <tr>\n",
       "      <th>...</th>\n",
       "      <td>...</td>\n",
       "      <td>...</td>\n",
       "      <td>...</td>\n",
       "      <td>...</td>\n",
       "      <td>...</td>\n",
       "      <td>...</td>\n",
       "      <td>...</td>\n",
       "      <td>...</td>\n",
       "      <td>...</td>\n",
       "      <td>...</td>\n",
       "      <td>...</td>\n",
       "      <td>...</td>\n",
       "      <td>...</td>\n",
       "      <td>...</td>\n",
       "    </tr>\n",
       "    <tr>\n",
       "      <th>11470</th>\n",
       "      <td>2023-07-27 11:04:01</td>\n",
       "      <td>watching</td>\n",
       "      <td>https://www.tiktokv.com/share/video/7253144510...</td>\n",
       "      <td>NaN</td>\n",
       "      <td>NaN</td>\n",
       "      <td>7253144510421536005</td>\n",
       "      <td>2.0</td>\n",
       "      <td>6173</td>\n",
       "      <td>7</td>\n",
       "      <td>0</td>\n",
       "      <td>17.0</td>\n",
       "      <td>0.117647</td>\n",
       "      <td>0</td>\n",
       "      <td>0</td>\n",
       "    </tr>\n",
       "    <tr>\n",
       "      <th>11471</th>\n",
       "      <td>2023-08-19 08:10:13</td>\n",
       "      <td>watching</td>\n",
       "      <td>https://www.tiktokv.com/share/video/7259306127...</td>\n",
       "      <td>NaN</td>\n",
       "      <td>NaN</td>\n",
       "      <td>7259306127991508250</td>\n",
       "      <td>8.0</td>\n",
       "      <td>6173</td>\n",
       "      <td>8</td>\n",
       "      <td>0</td>\n",
       "      <td>89.0</td>\n",
       "      <td>0.089888</td>\n",
       "      <td>0</td>\n",
       "      <td>0</td>\n",
       "    </tr>\n",
       "    <tr>\n",
       "      <th>11472</th>\n",
       "      <td>2023-09-03 12:51:59</td>\n",
       "      <td>watching</td>\n",
       "      <td>https://www.tiktokv.com/share/video/7267256594...</td>\n",
       "      <td>NaN</td>\n",
       "      <td>NaN</td>\n",
       "      <td>7267256594923130145</td>\n",
       "      <td>10.0</td>\n",
       "      <td>6173</td>\n",
       "      <td>9</td>\n",
       "      <td>0</td>\n",
       "      <td>127.0</td>\n",
       "      <td>0.078740</td>\n",
       "      <td>0</td>\n",
       "      <td>0</td>\n",
       "    </tr>\n",
       "    <tr>\n",
       "      <th>11473</th>\n",
       "      <td>2023-09-03 12:53:44</td>\n",
       "      <td>watching</td>\n",
       "      <td>https://www.tiktokv.com/share/video/7274322118...</td>\n",
       "      <td>NaN</td>\n",
       "      <td>NaN</td>\n",
       "      <td>7274322118974672170</td>\n",
       "      <td>1.0</td>\n",
       "      <td>6173</td>\n",
       "      <td>9</td>\n",
       "      <td>0</td>\n",
       "      <td>131.0</td>\n",
       "      <td>0.007634</td>\n",
       "      <td>0</td>\n",
       "      <td>1</td>\n",
       "    </tr>\n",
       "    <tr>\n",
       "      <th>11474</th>\n",
       "      <td>2023-09-03 12:53:45</td>\n",
       "      <td>watching</td>\n",
       "      <td>https://www.tiktokv.com/share/video/7273984339...</td>\n",
       "      <td>NaN</td>\n",
       "      <td>NaN</td>\n",
       "      <td>7273984339199741230</td>\n",
       "      <td>2.0</td>\n",
       "      <td>6173</td>\n",
       "      <td>9</td>\n",
       "      <td>0</td>\n",
       "      <td>14.0</td>\n",
       "      <td>0.142857</td>\n",
       "      <td>0</td>\n",
       "      <td>0</td>\n",
       "    </tr>\n",
       "  </tbody>\n",
       "</table>\n",
       "<p>11475 rows × 14 columns</p>\n",
       "</div>"
      ],
      "text/plain": [
       "                      Date    Action  \\\n",
       "0      2023-03-17 11:37:38  watching   \n",
       "1      2023-03-17 11:38:05  watching   \n",
       "2      2023-03-17 11:38:25  watching   \n",
       "3      2023-03-17 11:38:34  watching   \n",
       "4      2023-03-17 11:39:11  watching   \n",
       "...                    ...       ...   \n",
       "11470  2023-07-27 11:04:01  watching   \n",
       "11471  2023-08-19 08:10:13  watching   \n",
       "11472  2023-09-03 12:51:59  watching   \n",
       "11473  2023-09-03 12:53:44  watching   \n",
       "11474  2023-09-03 12:53:45  watching   \n",
       "\n",
       "                                                     Url  OperatingSystem  \\\n",
       "0      https://www.tiktokv.com/share/video/6984429060...              NaN   \n",
       "1      https://www.tiktokv.com/share/video/7211168761...              NaN   \n",
       "2      https://www.tiktokv.com/share/video/7211204623...              NaN   \n",
       "3      https://www.tiktokv.com/share/video/7194066849...              NaN   \n",
       "4      https://www.tiktokv.com/share/video/7208232985...              NaN   \n",
       "...                                                  ...              ...   \n",
       "11470  https://www.tiktokv.com/share/video/7253144510...              NaN   \n",
       "11471  https://www.tiktokv.com/share/video/7259306127...              NaN   \n",
       "11472  https://www.tiktokv.com/share/video/7267256594...              NaN   \n",
       "11473  https://www.tiktokv.com/share/video/7274322118...              NaN   \n",
       "11474  https://www.tiktokv.com/share/video/7273984339...              NaN   \n",
       "\n",
       "       likes                v_ids  activity_time    ID session  \\\n",
       "0        NaN  6984429060914990342           26.0  6592       1   \n",
       "1        NaN  7211168761695604014           20.0  6592       1   \n",
       "2        NaN  7211204623296630022            6.0  6592       1   \n",
       "3        NaN  7194066849594756354           37.0  6592       1   \n",
       "4        NaN  7208232985055841542            9.0  6592       1   \n",
       "...      ...                  ...            ...   ...     ...   \n",
       "11470    NaN  7253144510421536005            2.0  6173       7   \n",
       "11471    NaN  7259306127991508250            8.0  6173       8   \n",
       "11472    NaN  7267256594923130145           10.0  6173       9   \n",
       "11473    NaN  7274322118974672170            1.0  6173       9   \n",
       "11474    NaN  7273984339199741230            2.0  6173       9   \n",
       "\n",
       "       active_engament  video_length   wt_frac  passive_endorsement  class  \n",
       "0                    0          24.0  1.083333                    0      0  \n",
       "1                    0          12.0  1.666667                    0      0  \n",
       "2                    0          10.0  0.600000                    0      0  \n",
       "3                    0          26.0  1.423077                    0      1  \n",
       "4                    0          15.0  0.600000                    0      0  \n",
       "...                ...           ...       ...                  ...    ...  \n",
       "11470                0          17.0  0.117647                    0      0  \n",
       "11471                0          89.0  0.089888                    0      0  \n",
       "11472                0         127.0  0.078740                    0      0  \n",
       "11473                0         131.0  0.007634                    0      1  \n",
       "11474                0          14.0  0.142857                    0      0  \n",
       "\n",
       "[11475 rows x 14 columns]"
      ]
     },
     "execution_count": 90,
     "metadata": {},
     "output_type": "execute_result"
    }
   ],
   "source": [
    "final_df"
   ]
  },
  {
   "cell_type": "code",
   "execution_count": 91,
   "id": "86318c3b",
   "metadata": {
    "ExecuteTime": {
     "end_time": "2023-10-10T11:47:15.923127Z",
     "start_time": "2023-10-10T11:47:15.842385Z"
    }
   },
   "outputs": [],
   "source": [
    "final_df.to_csv(\"data/session_df.csv\", index=False)"
   ]
  },
  {
   "cell_type": "code",
   "execution_count": 92,
   "id": "9eb8b6f7",
   "metadata": {
    "ExecuteTime": {
     "end_time": "2023-10-10T11:47:15.928849Z",
     "start_time": "2023-10-10T11:47:15.924082Z"
    }
   },
   "outputs": [
    {
     "data": {
      "text/plain": [
       "Counter({0: 10933, 1: 542})"
      ]
     },
     "execution_count": 92,
     "metadata": {},
     "output_type": "execute_result"
    }
   ],
   "source": [
    "Counter(final_df[\"class\"])"
   ]
  }
 ],
 "metadata": {
  "kernelspec": {
   "display_name": "Python [conda env:env_multimodal]",
   "language": "python",
   "name": "conda-env-env_multimodal-py"
  },
  "language_info": {
   "codemirror_mode": {
    "name": "ipython",
    "version": 3
   },
   "file_extension": ".py",
   "mimetype": "text/x-python",
   "name": "python",
   "nbconvert_exporter": "python",
   "pygments_lexer": "ipython3",
   "version": "3.10.12"
  },
  "toc": {
   "base_numbering": 1,
   "nav_menu": {},
   "number_sections": true,
   "sideBar": true,
   "skip_h1_title": false,
   "title_cell": "Table of Contents",
   "title_sidebar": "Contents",
   "toc_cell": false,
   "toc_position": {},
   "toc_section_display": true,
   "toc_window_display": false
  }
 },
 "nbformat": 4,
 "nbformat_minor": 5
}
